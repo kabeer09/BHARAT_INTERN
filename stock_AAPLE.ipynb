{
  "cells": [
    {
      "cell_type": "markdown",
      "metadata": {
        "id": "view-in-github",
        "colab_type": "text"
      },
      "source": [
        "<a href=\"https://colab.research.google.com/github/kabeer09/BHARAT_INTERN/blob/main/stock_AAPLE.ipynb\" target=\"_parent\"><img src=\"https://colab.research.google.com/assets/colab-badge.svg\" alt=\"Open In Colab\"/></a>"
      ]
    },
    {
      "cell_type": "code",
      "execution_count": 4,
      "metadata": {
        "id": "j07rPID0KImE"
      },
      "outputs": [],
      "source": [
        "import pandas as pd\n",
        "import numpy as np"
      ]
    },
    {
      "cell_type": "code",
      "source": [
        "from google.colab import drive\n",
        "drive.mount('/content/drive')"
      ],
      "metadata": {
        "colab": {
          "base_uri": "https://localhost:8080/"
        },
        "id": "74CrnVLudfyk",
        "outputId": "54b4f0ea-5bb3-49c6-96b1-2b1fefb6e890"
      },
      "execution_count": 3,
      "outputs": [
        {
          "output_type": "stream",
          "name": "stdout",
          "text": [
            "Mounted at /content/drive\n"
          ]
        }
      ]
    },
    {
      "cell_type": "code",
      "execution_count": 5,
      "metadata": {
        "colab": {
          "base_uri": "https://localhost:8080/",
          "height": 423
        },
        "id": "WgyLLAMcedyf",
        "outputId": "b77686bb-3239-4116-95c7-91f8ae54ebf6"
      },
      "outputs": [
        {
          "output_type": "execute_result",
          "data": {
            "text/plain": [
              "      Unnamed: 0 symbol                       date    close     high  \\\n",
              "0              0   AAPL  2015-05-27 00:00:00+00:00  132.045  132.260   \n",
              "1              1   AAPL  2015-05-28 00:00:00+00:00  131.780  131.950   \n",
              "2              2   AAPL  2015-05-29 00:00:00+00:00  130.280  131.450   \n",
              "3              3   AAPL  2015-06-01 00:00:00+00:00  130.535  131.390   \n",
              "4              4   AAPL  2015-06-02 00:00:00+00:00  129.960  130.655   \n",
              "...          ...    ...                        ...      ...      ...   \n",
              "1253        1253   AAPL  2020-05-18 00:00:00+00:00  314.960  316.500   \n",
              "1254        1254   AAPL  2020-05-19 00:00:00+00:00  313.140  318.520   \n",
              "1255        1255   AAPL  2020-05-20 00:00:00+00:00  319.230  319.520   \n",
              "1256        1256   AAPL  2020-05-21 00:00:00+00:00  316.850  320.890   \n",
              "1257        1257   AAPL  2020-05-22 00:00:00+00:00  318.890  319.230   \n",
              "\n",
              "           low    open    volume    adjClose     adjHigh      adjLow  \\\n",
              "0     130.0500  130.34  45833246  121.682558  121.880685  119.844118   \n",
              "1     131.1000  131.86  30733309  121.438354  121.595013  120.811718   \n",
              "2     129.9000  131.23  50884452  120.056069  121.134251  119.705890   \n",
              "3     130.0500  131.20  32112797  120.291057  121.078960  119.844118   \n",
              "4     129.3200  129.86  33667627  119.761181  120.401640  119.171406   \n",
              "...        ...     ...       ...         ...         ...         ...   \n",
              "1253  310.3241  313.17  33843125  314.960000  316.500000  310.324100   \n",
              "1254  313.0100  315.03  25432385  313.140000  318.520000  313.010000   \n",
              "1255  316.2000  316.68  27876215  319.230000  319.520000  316.200000   \n",
              "1256  315.8700  318.66  25672211  316.850000  320.890000  315.870000   \n",
              "1257  315.3500  315.77  20450754  318.890000  319.230000  315.350000   \n",
              "\n",
              "         adjOpen  adjVolume  divCash  splitFactor  \n",
              "0     120.111360   45833246      0.0          1.0  \n",
              "1     121.512076   30733309      0.0          1.0  \n",
              "2     120.931516   50884452      0.0          1.0  \n",
              "3     120.903870   32112797      0.0          1.0  \n",
              "4     119.669029   33667627      0.0          1.0  \n",
              "...          ...        ...      ...          ...  \n",
              "1253  313.170000   33843125      0.0          1.0  \n",
              "1254  315.030000   25432385      0.0          1.0  \n",
              "1255  316.680000   27876215      0.0          1.0  \n",
              "1256  318.660000   25672211      0.0          1.0  \n",
              "1257  315.770000   20450754      0.0          1.0  \n",
              "\n",
              "[1258 rows x 15 columns]"
            ],
            "text/html": [
              "\n",
              "  <div id=\"df-fbeca967-1272-4f7b-b427-f05a323f9311\" class=\"colab-df-container\">\n",
              "    <div>\n",
              "<style scoped>\n",
              "    .dataframe tbody tr th:only-of-type {\n",
              "        vertical-align: middle;\n",
              "    }\n",
              "\n",
              "    .dataframe tbody tr th {\n",
              "        vertical-align: top;\n",
              "    }\n",
              "\n",
              "    .dataframe thead th {\n",
              "        text-align: right;\n",
              "    }\n",
              "</style>\n",
              "<table border=\"1\" class=\"dataframe\">\n",
              "  <thead>\n",
              "    <tr style=\"text-align: right;\">\n",
              "      <th></th>\n",
              "      <th>Unnamed: 0</th>\n",
              "      <th>symbol</th>\n",
              "      <th>date</th>\n",
              "      <th>close</th>\n",
              "      <th>high</th>\n",
              "      <th>low</th>\n",
              "      <th>open</th>\n",
              "      <th>volume</th>\n",
              "      <th>adjClose</th>\n",
              "      <th>adjHigh</th>\n",
              "      <th>adjLow</th>\n",
              "      <th>adjOpen</th>\n",
              "      <th>adjVolume</th>\n",
              "      <th>divCash</th>\n",
              "      <th>splitFactor</th>\n",
              "    </tr>\n",
              "  </thead>\n",
              "  <tbody>\n",
              "    <tr>\n",
              "      <th>0</th>\n",
              "      <td>0</td>\n",
              "      <td>AAPL</td>\n",
              "      <td>2015-05-27 00:00:00+00:00</td>\n",
              "      <td>132.045</td>\n",
              "      <td>132.260</td>\n",
              "      <td>130.0500</td>\n",
              "      <td>130.34</td>\n",
              "      <td>45833246</td>\n",
              "      <td>121.682558</td>\n",
              "      <td>121.880685</td>\n",
              "      <td>119.844118</td>\n",
              "      <td>120.111360</td>\n",
              "      <td>45833246</td>\n",
              "      <td>0.0</td>\n",
              "      <td>1.0</td>\n",
              "    </tr>\n",
              "    <tr>\n",
              "      <th>1</th>\n",
              "      <td>1</td>\n",
              "      <td>AAPL</td>\n",
              "      <td>2015-05-28 00:00:00+00:00</td>\n",
              "      <td>131.780</td>\n",
              "      <td>131.950</td>\n",
              "      <td>131.1000</td>\n",
              "      <td>131.86</td>\n",
              "      <td>30733309</td>\n",
              "      <td>121.438354</td>\n",
              "      <td>121.595013</td>\n",
              "      <td>120.811718</td>\n",
              "      <td>121.512076</td>\n",
              "      <td>30733309</td>\n",
              "      <td>0.0</td>\n",
              "      <td>1.0</td>\n",
              "    </tr>\n",
              "    <tr>\n",
              "      <th>2</th>\n",
              "      <td>2</td>\n",
              "      <td>AAPL</td>\n",
              "      <td>2015-05-29 00:00:00+00:00</td>\n",
              "      <td>130.280</td>\n",
              "      <td>131.450</td>\n",
              "      <td>129.9000</td>\n",
              "      <td>131.23</td>\n",
              "      <td>50884452</td>\n",
              "      <td>120.056069</td>\n",
              "      <td>121.134251</td>\n",
              "      <td>119.705890</td>\n",
              "      <td>120.931516</td>\n",
              "      <td>50884452</td>\n",
              "      <td>0.0</td>\n",
              "      <td>1.0</td>\n",
              "    </tr>\n",
              "    <tr>\n",
              "      <th>3</th>\n",
              "      <td>3</td>\n",
              "      <td>AAPL</td>\n",
              "      <td>2015-06-01 00:00:00+00:00</td>\n",
              "      <td>130.535</td>\n",
              "      <td>131.390</td>\n",
              "      <td>130.0500</td>\n",
              "      <td>131.20</td>\n",
              "      <td>32112797</td>\n",
              "      <td>120.291057</td>\n",
              "      <td>121.078960</td>\n",
              "      <td>119.844118</td>\n",
              "      <td>120.903870</td>\n",
              "      <td>32112797</td>\n",
              "      <td>0.0</td>\n",
              "      <td>1.0</td>\n",
              "    </tr>\n",
              "    <tr>\n",
              "      <th>4</th>\n",
              "      <td>4</td>\n",
              "      <td>AAPL</td>\n",
              "      <td>2015-06-02 00:00:00+00:00</td>\n",
              "      <td>129.960</td>\n",
              "      <td>130.655</td>\n",
              "      <td>129.3200</td>\n",
              "      <td>129.86</td>\n",
              "      <td>33667627</td>\n",
              "      <td>119.761181</td>\n",
              "      <td>120.401640</td>\n",
              "      <td>119.171406</td>\n",
              "      <td>119.669029</td>\n",
              "      <td>33667627</td>\n",
              "      <td>0.0</td>\n",
              "      <td>1.0</td>\n",
              "    </tr>\n",
              "    <tr>\n",
              "      <th>...</th>\n",
              "      <td>...</td>\n",
              "      <td>...</td>\n",
              "      <td>...</td>\n",
              "      <td>...</td>\n",
              "      <td>...</td>\n",
              "      <td>...</td>\n",
              "      <td>...</td>\n",
              "      <td>...</td>\n",
              "      <td>...</td>\n",
              "      <td>...</td>\n",
              "      <td>...</td>\n",
              "      <td>...</td>\n",
              "      <td>...</td>\n",
              "      <td>...</td>\n",
              "      <td>...</td>\n",
              "    </tr>\n",
              "    <tr>\n",
              "      <th>1253</th>\n",
              "      <td>1253</td>\n",
              "      <td>AAPL</td>\n",
              "      <td>2020-05-18 00:00:00+00:00</td>\n",
              "      <td>314.960</td>\n",
              "      <td>316.500</td>\n",
              "      <td>310.3241</td>\n",
              "      <td>313.17</td>\n",
              "      <td>33843125</td>\n",
              "      <td>314.960000</td>\n",
              "      <td>316.500000</td>\n",
              "      <td>310.324100</td>\n",
              "      <td>313.170000</td>\n",
              "      <td>33843125</td>\n",
              "      <td>0.0</td>\n",
              "      <td>1.0</td>\n",
              "    </tr>\n",
              "    <tr>\n",
              "      <th>1254</th>\n",
              "      <td>1254</td>\n",
              "      <td>AAPL</td>\n",
              "      <td>2020-05-19 00:00:00+00:00</td>\n",
              "      <td>313.140</td>\n",
              "      <td>318.520</td>\n",
              "      <td>313.0100</td>\n",
              "      <td>315.03</td>\n",
              "      <td>25432385</td>\n",
              "      <td>313.140000</td>\n",
              "      <td>318.520000</td>\n",
              "      <td>313.010000</td>\n",
              "      <td>315.030000</td>\n",
              "      <td>25432385</td>\n",
              "      <td>0.0</td>\n",
              "      <td>1.0</td>\n",
              "    </tr>\n",
              "    <tr>\n",
              "      <th>1255</th>\n",
              "      <td>1255</td>\n",
              "      <td>AAPL</td>\n",
              "      <td>2020-05-20 00:00:00+00:00</td>\n",
              "      <td>319.230</td>\n",
              "      <td>319.520</td>\n",
              "      <td>316.2000</td>\n",
              "      <td>316.68</td>\n",
              "      <td>27876215</td>\n",
              "      <td>319.230000</td>\n",
              "      <td>319.520000</td>\n",
              "      <td>316.200000</td>\n",
              "      <td>316.680000</td>\n",
              "      <td>27876215</td>\n",
              "      <td>0.0</td>\n",
              "      <td>1.0</td>\n",
              "    </tr>\n",
              "    <tr>\n",
              "      <th>1256</th>\n",
              "      <td>1256</td>\n",
              "      <td>AAPL</td>\n",
              "      <td>2020-05-21 00:00:00+00:00</td>\n",
              "      <td>316.850</td>\n",
              "      <td>320.890</td>\n",
              "      <td>315.8700</td>\n",
              "      <td>318.66</td>\n",
              "      <td>25672211</td>\n",
              "      <td>316.850000</td>\n",
              "      <td>320.890000</td>\n",
              "      <td>315.870000</td>\n",
              "      <td>318.660000</td>\n",
              "      <td>25672211</td>\n",
              "      <td>0.0</td>\n",
              "      <td>1.0</td>\n",
              "    </tr>\n",
              "    <tr>\n",
              "      <th>1257</th>\n",
              "      <td>1257</td>\n",
              "      <td>AAPL</td>\n",
              "      <td>2020-05-22 00:00:00+00:00</td>\n",
              "      <td>318.890</td>\n",
              "      <td>319.230</td>\n",
              "      <td>315.3500</td>\n",
              "      <td>315.77</td>\n",
              "      <td>20450754</td>\n",
              "      <td>318.890000</td>\n",
              "      <td>319.230000</td>\n",
              "      <td>315.350000</td>\n",
              "      <td>315.770000</td>\n",
              "      <td>20450754</td>\n",
              "      <td>0.0</td>\n",
              "      <td>1.0</td>\n",
              "    </tr>\n",
              "  </tbody>\n",
              "</table>\n",
              "<p>1258 rows × 15 columns</p>\n",
              "</div>\n",
              "    <div class=\"colab-df-buttons\">\n",
              "\n",
              "  <div class=\"colab-df-container\">\n",
              "    <button class=\"colab-df-convert\" onclick=\"convertToInteractive('df-fbeca967-1272-4f7b-b427-f05a323f9311')\"\n",
              "            title=\"Convert this dataframe to an interactive table.\"\n",
              "            style=\"display:none;\">\n",
              "\n",
              "  <svg xmlns=\"http://www.w3.org/2000/svg\" height=\"24px\" viewBox=\"0 -960 960 960\">\n",
              "    <path d=\"M120-120v-720h720v720H120Zm60-500h600v-160H180v160Zm220 220h160v-160H400v160Zm0 220h160v-160H400v160ZM180-400h160v-160H180v160Zm440 0h160v-160H620v160ZM180-180h160v-160H180v160Zm440 0h160v-160H620v160Z\"/>\n",
              "  </svg>\n",
              "    </button>\n",
              "\n",
              "  <style>\n",
              "    .colab-df-container {\n",
              "      display:flex;\n",
              "      gap: 12px;\n",
              "    }\n",
              "\n",
              "    .colab-df-convert {\n",
              "      background-color: #E8F0FE;\n",
              "      border: none;\n",
              "      border-radius: 50%;\n",
              "      cursor: pointer;\n",
              "      display: none;\n",
              "      fill: #1967D2;\n",
              "      height: 32px;\n",
              "      padding: 0 0 0 0;\n",
              "      width: 32px;\n",
              "    }\n",
              "\n",
              "    .colab-df-convert:hover {\n",
              "      background-color: #E2EBFA;\n",
              "      box-shadow: 0px 1px 2px rgba(60, 64, 67, 0.3), 0px 1px 3px 1px rgba(60, 64, 67, 0.15);\n",
              "      fill: #174EA6;\n",
              "    }\n",
              "\n",
              "    .colab-df-buttons div {\n",
              "      margin-bottom: 4px;\n",
              "    }\n",
              "\n",
              "    [theme=dark] .colab-df-convert {\n",
              "      background-color: #3B4455;\n",
              "      fill: #D2E3FC;\n",
              "    }\n",
              "\n",
              "    [theme=dark] .colab-df-convert:hover {\n",
              "      background-color: #434B5C;\n",
              "      box-shadow: 0px 1px 3px 1px rgba(0, 0, 0, 0.15);\n",
              "      filter: drop-shadow(0px 1px 2px rgba(0, 0, 0, 0.3));\n",
              "      fill: #FFFFFF;\n",
              "    }\n",
              "  </style>\n",
              "\n",
              "    <script>\n",
              "      const buttonEl =\n",
              "        document.querySelector('#df-fbeca967-1272-4f7b-b427-f05a323f9311 button.colab-df-convert');\n",
              "      buttonEl.style.display =\n",
              "        google.colab.kernel.accessAllowed ? 'block' : 'none';\n",
              "\n",
              "      async function convertToInteractive(key) {\n",
              "        const element = document.querySelector('#df-fbeca967-1272-4f7b-b427-f05a323f9311');\n",
              "        const dataTable =\n",
              "          await google.colab.kernel.invokeFunction('convertToInteractive',\n",
              "                                                    [key], {});\n",
              "        if (!dataTable) return;\n",
              "\n",
              "        const docLinkHtml = 'Like what you see? Visit the ' +\n",
              "          '<a target=\"_blank\" href=https://colab.research.google.com/notebooks/data_table.ipynb>data table notebook</a>'\n",
              "          + ' to learn more about interactive tables.';\n",
              "        element.innerHTML = '';\n",
              "        dataTable['output_type'] = 'display_data';\n",
              "        await google.colab.output.renderOutput(dataTable, element);\n",
              "        const docLink = document.createElement('div');\n",
              "        docLink.innerHTML = docLinkHtml;\n",
              "        element.appendChild(docLink);\n",
              "      }\n",
              "    </script>\n",
              "  </div>\n",
              "\n",
              "\n",
              "<div id=\"df-1a07abbe-70e3-4465-8dac-7b038086ecd2\">\n",
              "  <button class=\"colab-df-quickchart\" onclick=\"quickchart('df-1a07abbe-70e3-4465-8dac-7b038086ecd2')\"\n",
              "            title=\"Suggest charts.\"\n",
              "            style=\"display:none;\">\n",
              "\n",
              "<svg xmlns=\"http://www.w3.org/2000/svg\" height=\"24px\"viewBox=\"0 0 24 24\"\n",
              "     width=\"24px\">\n",
              "    <g>\n",
              "        <path d=\"M19 3H5c-1.1 0-2 .9-2 2v14c0 1.1.9 2 2 2h14c1.1 0 2-.9 2-2V5c0-1.1-.9-2-2-2zM9 17H7v-7h2v7zm4 0h-2V7h2v10zm4 0h-2v-4h2v4z\"/>\n",
              "    </g>\n",
              "</svg>\n",
              "  </button>\n",
              "\n",
              "<style>\n",
              "  .colab-df-quickchart {\n",
              "      --bg-color: #E8F0FE;\n",
              "      --fill-color: #1967D2;\n",
              "      --hover-bg-color: #E2EBFA;\n",
              "      --hover-fill-color: #174EA6;\n",
              "      --disabled-fill-color: #AAA;\n",
              "      --disabled-bg-color: #DDD;\n",
              "  }\n",
              "\n",
              "  [theme=dark] .colab-df-quickchart {\n",
              "      --bg-color: #3B4455;\n",
              "      --fill-color: #D2E3FC;\n",
              "      --hover-bg-color: #434B5C;\n",
              "      --hover-fill-color: #FFFFFF;\n",
              "      --disabled-bg-color: #3B4455;\n",
              "      --disabled-fill-color: #666;\n",
              "  }\n",
              "\n",
              "  .colab-df-quickchart {\n",
              "    background-color: var(--bg-color);\n",
              "    border: none;\n",
              "    border-radius: 50%;\n",
              "    cursor: pointer;\n",
              "    display: none;\n",
              "    fill: var(--fill-color);\n",
              "    height: 32px;\n",
              "    padding: 0;\n",
              "    width: 32px;\n",
              "  }\n",
              "\n",
              "  .colab-df-quickchart:hover {\n",
              "    background-color: var(--hover-bg-color);\n",
              "    box-shadow: 0 1px 2px rgba(60, 64, 67, 0.3), 0 1px 3px 1px rgba(60, 64, 67, 0.15);\n",
              "    fill: var(--button-hover-fill-color);\n",
              "  }\n",
              "\n",
              "  .colab-df-quickchart-complete:disabled,\n",
              "  .colab-df-quickchart-complete:disabled:hover {\n",
              "    background-color: var(--disabled-bg-color);\n",
              "    fill: var(--disabled-fill-color);\n",
              "    box-shadow: none;\n",
              "  }\n",
              "\n",
              "  .colab-df-spinner {\n",
              "    border: 2px solid var(--fill-color);\n",
              "    border-color: transparent;\n",
              "    border-bottom-color: var(--fill-color);\n",
              "    animation:\n",
              "      spin 1s steps(1) infinite;\n",
              "  }\n",
              "\n",
              "  @keyframes spin {\n",
              "    0% {\n",
              "      border-color: transparent;\n",
              "      border-bottom-color: var(--fill-color);\n",
              "      border-left-color: var(--fill-color);\n",
              "    }\n",
              "    20% {\n",
              "      border-color: transparent;\n",
              "      border-left-color: var(--fill-color);\n",
              "      border-top-color: var(--fill-color);\n",
              "    }\n",
              "    30% {\n",
              "      border-color: transparent;\n",
              "      border-left-color: var(--fill-color);\n",
              "      border-top-color: var(--fill-color);\n",
              "      border-right-color: var(--fill-color);\n",
              "    }\n",
              "    40% {\n",
              "      border-color: transparent;\n",
              "      border-right-color: var(--fill-color);\n",
              "      border-top-color: var(--fill-color);\n",
              "    }\n",
              "    60% {\n",
              "      border-color: transparent;\n",
              "      border-right-color: var(--fill-color);\n",
              "    }\n",
              "    80% {\n",
              "      border-color: transparent;\n",
              "      border-right-color: var(--fill-color);\n",
              "      border-bottom-color: var(--fill-color);\n",
              "    }\n",
              "    90% {\n",
              "      border-color: transparent;\n",
              "      border-bottom-color: var(--fill-color);\n",
              "    }\n",
              "  }\n",
              "</style>\n",
              "\n",
              "  <script>\n",
              "    async function quickchart(key) {\n",
              "      const quickchartButtonEl =\n",
              "        document.querySelector('#' + key + ' button');\n",
              "      quickchartButtonEl.disabled = true;  // To prevent multiple clicks.\n",
              "      quickchartButtonEl.classList.add('colab-df-spinner');\n",
              "      try {\n",
              "        const charts = await google.colab.kernel.invokeFunction(\n",
              "            'suggestCharts', [key], {});\n",
              "      } catch (error) {\n",
              "        console.error('Error during call to suggestCharts:', error);\n",
              "      }\n",
              "      quickchartButtonEl.classList.remove('colab-df-spinner');\n",
              "      quickchartButtonEl.classList.add('colab-df-quickchart-complete');\n",
              "    }\n",
              "    (() => {\n",
              "      let quickchartButtonEl =\n",
              "        document.querySelector('#df-1a07abbe-70e3-4465-8dac-7b038086ecd2 button');\n",
              "      quickchartButtonEl.style.display =\n",
              "        google.colab.kernel.accessAllowed ? 'block' : 'none';\n",
              "    })();\n",
              "  </script>\n",
              "</div>\n",
              "    </div>\n",
              "  </div>\n"
            ]
          },
          "metadata": {},
          "execution_count": 5
        }
      ],
      "source": [
        "df = pd.read_csv('/content/AAPL.csv')\n",
        "df"
      ]
    },
    {
      "cell_type": "code",
      "execution_count": 6,
      "metadata": {
        "colab": {
          "base_uri": "https://localhost:8080/"
        },
        "id": "LY2P0aVOed0u",
        "outputId": "dadf953b-68e7-490d-a54e-776d8af4ea56"
      },
      "outputs": [
        {
          "output_type": "stream",
          "name": "stdout",
          "text": [
            "<class 'pandas.core.frame.DataFrame'>\n",
            "RangeIndex: 1258 entries, 0 to 1257\n",
            "Data columns (total 15 columns):\n",
            " #   Column       Non-Null Count  Dtype  \n",
            "---  ------       --------------  -----  \n",
            " 0   Unnamed: 0   1258 non-null   int64  \n",
            " 1   symbol       1258 non-null   object \n",
            " 2   date         1258 non-null   object \n",
            " 3   close        1258 non-null   float64\n",
            " 4   high         1258 non-null   float64\n",
            " 5   low          1258 non-null   float64\n",
            " 6   open         1258 non-null   float64\n",
            " 7   volume       1258 non-null   int64  \n",
            " 8   adjClose     1258 non-null   float64\n",
            " 9   adjHigh      1258 non-null   float64\n",
            " 10  adjLow       1258 non-null   float64\n",
            " 11  adjOpen      1258 non-null   float64\n",
            " 12  adjVolume    1258 non-null   int64  \n",
            " 13  divCash      1258 non-null   float64\n",
            " 14  splitFactor  1258 non-null   float64\n",
            "dtypes: float64(10), int64(3), object(2)\n",
            "memory usage: 147.5+ KB\n"
          ]
        }
      ],
      "source": [
        "df.info()"
      ]
    },
    {
      "cell_type": "code",
      "execution_count": 7,
      "metadata": {
        "colab": {
          "base_uri": "https://localhost:8080/",
          "height": 695
        },
        "id": "9gY7O-vRdwT1",
        "outputId": "21fb6f1d-6f44-4761-972d-a351b3acc0de"
      },
      "outputs": [
        {
          "output_type": "execute_result",
          "data": {
            "text/plain": [
              "array([[<Axes: title={'center': 'Unnamed: 0'}>,\n",
              "        <Axes: title={'center': 'close'}>,\n",
              "        <Axes: title={'center': 'high'}>,\n",
              "        <Axes: title={'center': 'low'}>],\n",
              "       [<Axes: title={'center': 'open'}>,\n",
              "        <Axes: title={'center': 'volume'}>,\n",
              "        <Axes: title={'center': 'adjClose'}>,\n",
              "        <Axes: title={'center': 'adjHigh'}>],\n",
              "       [<Axes: title={'center': 'adjLow'}>,\n",
              "        <Axes: title={'center': 'adjOpen'}>,\n",
              "        <Axes: title={'center': 'adjVolume'}>,\n",
              "        <Axes: title={'center': 'divCash'}>],\n",
              "       [<Axes: title={'center': 'splitFactor'}>, <Axes: >, <Axes: >,\n",
              "        <Axes: >]], dtype=object)"
            ]
          },
          "metadata": {},
          "execution_count": 7
        },
        {
          "output_type": "display_data",
          "data": {
            "text/plain": [
              "<Figure size 640x480 with 16 Axes>"
            ],
            "image/png": "[encoded data removed]"
          },
          "metadata": {}
        }
      ],
      "source": [
        "df.hist()"
      ]
    },
    {
      "cell_type": "code",
      "execution_count": 8,
      "metadata": {
        "colab": {
          "base_uri": "https://localhost:8080/"
        },
        "id": "Dsz1yqGRed27",
        "outputId": "d162baf2-ffa1-4ad4-ca5b-6b7035f686f2"
      },
      "outputs": [
        {
          "output_type": "execute_result",
          "data": {
            "text/plain": [
              "(1258, 15)"
            ]
          },
          "metadata": {},
          "execution_count": 8
        }
      ],
      "source": [
        "df.shape"
      ]
    },
    {
      "cell_type": "code",
      "execution_count": 9,
      "metadata": {
        "colab": {
          "base_uri": "https://localhost:8080/"
        },
        "id": "5m-mC4tFpgKD",
        "outputId": "6ac72344-a119-4113-af3c-f3a45ad7dc77"
      },
      "outputs": [
        {
          "output_type": "execute_result",
          "data": {
            "text/plain": [
              "Index(['Unnamed: 0', 'symbol', 'date', 'close', 'high', 'low', 'open',\n",
              "       'volume', 'adjClose', 'adjHigh', 'adjLow', 'adjOpen', 'adjVolume',\n",
              "       'divCash', 'splitFactor'],\n",
              "      dtype='object')"
            ]
          },
          "metadata": {},
          "execution_count": 9
        }
      ],
      "source": [
        "df.columns"
      ]
    },
    {
      "cell_type": "code",
      "execution_count": 10,
      "metadata": {
        "colab": {
          "base_uri": "https://localhost:8080/"
        },
        "id": "qZP8SldbpgMe",
        "outputId": "82d95006-42ce-49c9-ec05-f1100cf4349e"
      },
      "outputs": [
        {
          "output_type": "execute_result",
          "data": {
            "text/plain": [
              "Unnamed: 0     0\n",
              "symbol         0\n",
              "date           0\n",
              "close          0\n",
              "high           0\n",
              "low            0\n",
              "open           0\n",
              "volume         0\n",
              "adjClose       0\n",
              "adjHigh        0\n",
              "adjLow         0\n",
              "adjOpen        0\n",
              "adjVolume      0\n",
              "divCash        0\n",
              "splitFactor    0\n",
              "dtype: int64"
            ]
          },
          "metadata": {},
          "execution_count": 10
        }
      ],
      "source": [
        "df.isnull().sum()"
      ]
    },
    {
      "cell_type": "code",
      "execution_count": 11,
      "metadata": {
        "id": "-ONBHWUbed8l"
      },
      "outputs": [],
      "source": [
        "df1 = df.reset_index()['close']"
      ]
    },
    {
      "cell_type": "code",
      "execution_count": 12,
      "metadata": {
        "colab": {
          "base_uri": "https://localhost:8080/"
        },
        "id": "-ZFtynAFed-w",
        "outputId": "79f670d5-51e1-4b35-d635-0b280e0c9299"
      },
      "outputs": [
        {
          "output_type": "execute_result",
          "data": {
            "text/plain": [
              "1228    273.25\n",
              "1229    287.05\n",
              "1230    284.43\n",
              "1231    286.69\n",
              "1232    282.80\n",
              "1233    276.93\n",
              "1234    268.37\n",
              "1235    276.10\n",
              "1236    275.03\n",
              "1237    282.97\n",
              "1238    283.17\n",
              "1239    278.58\n",
              "1240    287.73\n",
              "1241    293.80\n",
              "1242    289.07\n",
              "1243    293.16\n",
              "1244    297.56\n",
              "1245    300.63\n",
              "1246    303.74\n",
              "1247    310.13\n",
              "1248    315.01\n",
              "1249    311.41\n",
              "1250    307.65\n",
              "1251    309.54\n",
              "1252    307.71\n",
              "1253    314.96\n",
              "1254    313.14\n",
              "1255    319.23\n",
              "1256    316.85\n",
              "1257    318.89\n",
              "Name: close, dtype: float64"
            ]
          },
          "metadata": {},
          "execution_count": 12
        }
      ],
      "source": [
        "df1[1228:]"
      ]
    },
    {
      "cell_type": "code",
      "execution_count": 13,
      "metadata": {
        "colab": {
          "base_uri": "https://localhost:8080/"
        },
        "id": "QLELTB6beeBD",
        "outputId": "8c199852-1cbf-4559-f3b8-deb955d538b5"
      },
      "outputs": [
        {
          "output_type": "execute_result",
          "data": {
            "text/plain": [
              "(1258,)"
            ]
          },
          "metadata": {},
          "execution_count": 13
        }
      ],
      "source": [
        "df1.shape"
      ]
    },
    {
      "cell_type": "code",
      "execution_count": 14,
      "metadata": {
        "colab": {
          "base_uri": "https://localhost:8080/",
          "height": 447
        },
        "id": "zmCsX2pGeeD3",
        "outputId": "d1ac9c0c-d72a-46a9-f0c2-76c0002d30ae"
      },
      "outputs": [
        {
          "output_type": "execute_result",
          "data": {
            "text/plain": [
              "[<matplotlib.lines.Line2D at 0x7d35ffead5a0>]"
            ]
          },
          "metadata": {},
          "execution_count": 14
        },
        {
          "output_type": "display_data",
          "data": {
            "text/plain": [
              "<Figure size 640x480 with 1 Axes>"
            ],
            "image/png": "[encoded data removed]"
          },
          "metadata": {}
        }
      ],
      "source": [
        "import matplotlib.pyplot as plt\n",
        "plt.plot(df1)"
      ]
    },
    {
      "cell_type": "code",
      "execution_count": 15,
      "metadata": {
        "colab": {
          "base_uri": "https://localhost:8080/"
        },
        "id": "clRq8lI8eeGN",
        "outputId": "0af7784b-7d99-4aa6-dd47-5801b1bb2d3b"
      },
      "outputs": [
        {
          "output_type": "stream",
          "name": "stdout",
          "text": [
            "[[0.17607447]\n",
            " [0.17495567]\n",
            " [0.16862282]\n",
            " ...\n",
            " [0.96635143]\n",
            " [0.9563033 ]\n",
            " [0.96491598]]\n"
          ]
        }
      ],
      "source": [
        "from sklearn.preprocessing import MinMaxScaler\n",
        "scaler=MinMaxScaler(feature_range=(0,1))\n",
        "df1=scaler.fit_transform(np.array(df1).reshape(-1,1))\n",
        "print(df1)"
      ]
    },
    {
      "cell_type": "code",
      "execution_count": 16,
      "metadata": {
        "colab": {
          "base_uri": "https://localhost:8080/"
        },
        "id": "lHZ_0suWeeI3",
        "outputId": "9a46d8a2-bb7d-4037-8d59-e7021fc4f49f"
      },
      "outputs": [
        {
          "output_type": "execute_result",
          "data": {
            "text/plain": [
              "(1258, 1)"
            ]
          },
          "metadata": {},
          "execution_count": 16
        }
      ],
      "source": [
        "df1.shape"
      ]
    },
    {
      "cell_type": "code",
      "execution_count": 17,
      "metadata": {
        "id": "WIvEJoQReeLK"
      },
      "outputs": [],
      "source": [
        "training_size=int(len(df1)*0.65)\n",
        "test_size=len(df1)-training_size\n",
        "train_data,test_data=df1[0:training_size,:],df1[training_size:len(df1),:1]"
      ]
    },
    {
      "cell_type": "code",
      "execution_count": 18,
      "metadata": {
        "colab": {
          "base_uri": "https://localhost:8080/"
        },
        "id": "59WPwSreeeNa",
        "outputId": "5caf54f9-a867-47d6-b7bb-b095bd0c9ad4"
      },
      "outputs": [
        {
          "output_type": "execute_result",
          "data": {
            "text/plain": [
              "(817, 441)"
            ]
          },
          "metadata": {},
          "execution_count": 18
        }
      ],
      "source": [
        "training_size,test_size"
      ]
    },
    {
      "cell_type": "code",
      "execution_count": 19,
      "metadata": {
        "colab": {
          "base_uri": "https://localhost:8080/"
        },
        "id": "ypjRg6wJeeQ4",
        "outputId": "c2d8ec3a-cd77-4ce5-a263-daf570d1b20e"
      },
      "outputs": [
        {
          "output_type": "execute_result",
          "data": {
            "text/plain": [
              "(817, 441)"
            ]
          },
          "metadata": {},
          "execution_count": 19
        }
      ],
      "source": [
        "len(train_data),len(test_data)"
      ]
    },
    {
      "cell_type": "code",
      "execution_count": 20,
      "metadata": {
        "id": "Ff8f7GD0iOD7"
      },
      "outputs": [],
      "source": [
        "import numpy\n",
        "\n",
        "def create_dataset(dataset, time_step=1):\n",
        "    dataX,dataY=[],[]\n",
        "    for i in range(len(dataset) -time_step-1):\n",
        "      a = dataset[i:(i+time_step),0]\n",
        "      dataX.append(a)\n",
        "      dataY.append(dataset[i + time_step,0])\n",
        "    return np.array(dataX), np.array(dataY)\n",
        "\n"
      ]
    },
    {
      "cell_type": "code",
      "execution_count": 21,
      "metadata": {
        "id": "gBHO_hhyiOGm"
      },
      "outputs": [],
      "source": [
        "time_step = 100\n",
        "x_train,y_train = create_dataset(train_data,time_step)\n",
        "x_test,ytest = create_dataset(test_data,time_step)"
      ]
    },
    {
      "cell_type": "code",
      "execution_count": 22,
      "metadata": {
        "colab": {
          "base_uri": "https://localhost:8080/"
        },
        "id": "CftKpQ6riOJS",
        "outputId": "7d40d74d-8a45-481a-fc24-0d6dbeca301b"
      },
      "outputs": [
        {
          "output_type": "stream",
          "name": "stdout",
          "text": [
            "[[0.17607447 0.17495567 0.16862282 ... 0.09055982 0.08388922 0.09085536]\n",
            " [0.17495567 0.16862282 0.1696994  ... 0.08388922 0.09085536 0.0873934 ]\n",
            " [0.16862282 0.1696994  0.16727181 ... 0.09085536 0.0873934  0.09030651]\n",
            " ...\n",
            " [0.34801148 0.32930845 0.32145571 ... 0.50042219 0.50413747 0.5062062 ]\n",
            " [0.32930845 0.32145571 0.32694419 ... 0.50413747 0.5062062  0.51920966]\n",
            " [0.32145571 0.32694419 0.32230009 ... 0.5062062  0.51920966 0.53719497]]\n"
          ]
        }
      ],
      "source": [
        "print(x_train)"
      ]
    },
    {
      "cell_type": "code",
      "execution_count": 23,
      "metadata": {
        "colab": {
          "base_uri": "https://localhost:8080/"
        },
        "id": "YZyf-9vdiOLi",
        "outputId": "110ba115-241b-404d-f159-e6652d78a7e8"
      },
      "outputs": [
        {
          "output_type": "stream",
          "name": "stdout",
          "text": [
            "(340, 100)\n",
            "(340,)\n"
          ]
        },
        {
          "output_type": "execute_result",
          "data": {
            "text/plain": [
              "(None, None)"
            ]
          },
          "metadata": {},
          "execution_count": 23
        }
      ],
      "source": [
        "print(x_test.shape) , print(ytest.shape)"
      ]
    },
    {
      "cell_type": "code",
      "execution_count": 24,
      "metadata": {
        "colab": {
          "base_uri": "https://localhost:8080/"
        },
        "id": "QxfStuqI3Bdn",
        "outputId": "472cb89b-c09e-4b2e-f56f-88103226f70b"
      },
      "outputs": [
        {
          "output_type": "stream",
          "name": "stdout",
          "text": [
            "(716, 100)\n",
            "(716,)\n"
          ]
        },
        {
          "output_type": "execute_result",
          "data": {
            "text/plain": [
              "(None, None)"
            ]
          },
          "metadata": {},
          "execution_count": 24
        }
      ],
      "source": [
        "print(x_train.shape) , print(y_train.shape)"
      ]
    },
    {
      "cell_type": "code",
      "execution_count": 25,
      "metadata": {
        "id": "GmFPHbCa3Bf4"
      },
      "outputs": [],
      "source": [
        "x_train = x_train.reshape(x_train.shape[0],x_train.shape[1],1)\n",
        "x_test =x_test.reshape(x_test.shape[0],x_test.shape[1], 1)"
      ]
    },
    {
      "cell_type": "code",
      "execution_count": 26,
      "metadata": {
        "id": "G1SFEDmA3BiF"
      },
      "outputs": [],
      "source": [
        "from tensorflow.keras.models import Sequential\n",
        "from tensorflow.keras.layers import Dense\n",
        "from tensorflow.keras.layers import LSTM"
      ]
    },
    {
      "cell_type": "code",
      "execution_count": 27,
      "metadata": {
        "id": "B3ogHSnS3Bkx"
      },
      "outputs": [],
      "source": [
        "from scipy.optimize import optimize\n",
        "model = Sequential()\n",
        "model.add(LSTM(50,return_sequences=True,input_shape=(100,1)))\n",
        "model.add(LSTM(50,return_sequences=True))\n",
        "model.add(LSTM(50))\n",
        "model.add(Dense(1))\n",
        "model.compile(loss='mean_squared_error',optimizer='adam')"
      ]
    },
    {
      "cell_type": "code",
      "execution_count": 28,
      "metadata": {
        "colab": {
          "base_uri": "https://localhost:8080/"
        },
        "id": "225u3OY13BnK",
        "outputId": "04f7a009-cedb-41c3-9956-d0e68f109d9c"
      },
      "outputs": [
        {
          "output_type": "stream",
          "name": "stdout",
          "text": [
            "Model: \"sequential\"\n",
            "_________________________________________________________________\n",
            " Layer (type)                Output Shape              Param #   \n",
            "=================================================================\n",
            " lstm (LSTM)                 (None, 100, 50)           10400     \n",
            "                                                                 \n",
            " lstm_1 (LSTM)               (None, 100, 50)           20200     \n",
            "                                                                 \n",
            " lstm_2 (LSTM)               (None, 50)                20200     \n",
            "                                                                 \n",
            " dense (Dense)               (None, 1)                 51        \n",
            "                                                                 \n",
            "=================================================================\n",
            "Total params: 50,851\n",
            "Trainable params: 50,851\n",
            "Non-trainable params: 0\n",
            "_________________________________________________________________\n"
          ]
        }
      ],
      "source": [
        "model.summary()"
      ]
    },
    {
      "cell_type": "code",
      "execution_count": null,
      "metadata": {
        "colab": {
          "base_uri": "https://localhost:8080/"
        },
        "id": "OpFWiHXTP4l-",
        "outputId": "1dc68949-4e2a-4d68-e468-9d85862fd3d9"
      },
      "outputs": [
        {
          "output_type": "stream",
          "name": "stdout",
          "text": [
            "Epoch 1/100\n",
            "179/179 [==============================] - 44s 245ms/step - loss: 8.9099e-05 - val_loss: 0.0016\n",
            "Epoch 2/100\n",
            "179/179 [==============================] - 24s 137ms/step - loss: 8.4340e-05 - val_loss: 0.0020\n",
            "Epoch 3/100\n",
            "179/179 [==============================] - 41s 232ms/step - loss: 8.6958e-05 - val_loss: 0.0025\n",
            "Epoch 4/100\n",
            "179/179 [==============================] - 26s 148ms/step - loss: 9.9269e-05 - val_loss: 0.0027\n",
            "Epoch 5/100\n",
            "179/179 [==============================] - 23s 128ms/step - loss: 9.0035e-05 - val_loss: 0.0032\n",
            "Epoch 6/100\n",
            "179/179 [==============================] - 21s 116ms/step - loss: 7.7653e-05 - val_loss: 0.0018\n",
            "Epoch 7/100\n",
            "179/179 [==============================] - 28s 157ms/step - loss: 9.1969e-05 - val_loss: 0.0012\n",
            "Epoch 8/100\n",
            "179/179 [==============================] - 32s 180ms/step - loss: 8.6646e-05 - val_loss: 0.0021\n",
            "Epoch 9/100\n",
            "179/179 [==============================] - 23s 130ms/step - loss: 8.2528e-05 - val_loss: 0.0019\n",
            "Epoch 10/100\n",
            "179/179 [==============================] - 23s 130ms/step - loss: 7.6642e-05 - val_loss: 0.0012\n",
            "Epoch 11/100\n",
            "179/179 [==============================] - 21s 120ms/step - loss: 8.1080e-05 - val_loss: 0.0022\n",
            "Epoch 12/100\n",
            "179/179 [==============================] - 23s 127ms/step - loss: 8.2686e-05 - val_loss: 0.0014\n",
            "Epoch 13/100\n",
            "179/179 [==============================] - 22s 124ms/step - loss: 8.1604e-05 - val_loss: 0.0013\n",
            "Epoch 14/100\n",
            "179/179 [==============================] - 23s 128ms/step - loss: 8.0556e-05 - val_loss: 7.6517e-04\n",
            "Epoch 15/100\n",
            "179/179 [==============================] - 24s 132ms/step - loss: 8.4390e-05 - val_loss: 9.2479e-04\n",
            "Epoch 16/100\n",
            "179/179 [==============================] - ETA: 0s - loss: 8.6080e-05"
          ]
        }
      ],
      "source": [
        "model.fit(x_train,y_train,validation_data=(x_test,ytest),epochs=100,batch_size=4,verbose=1)"
      ]
    },
    {
      "cell_type": "code",
      "execution_count": 30,
      "metadata": {
        "id": "CHZF9bAvPBG3"
      },
      "outputs": [],
      "source": [
        "import tensorflow as tf"
      ]
    },
    {
      "cell_type": "code",
      "execution_count": 31,
      "metadata": {
        "id": "tdKMYRdJPBJV",
        "colab": {
          "base_uri": "https://localhost:8080/",
          "height": 36
        },
        "outputId": "e4becc8f-cfa1-49d3-b17f-b79f911942a6"
      },
      "outputs": [
        {
          "output_type": "execute_result",
          "data": {
            "text/plain": [
              "'2.12.0'"
            ],
            "application/vnd.google.colaboratory.intrinsic+json": {
              "type": "string"
            }
          },
          "metadata": {},
          "execution_count": 31
        }
      ],
      "source": [
        "tf.__version__"
      ]
    },
    {
      "cell_type": "code",
      "execution_count": 32,
      "metadata": {
        "id": "-ijsNJybPBMB",
        "colab": {
          "base_uri": "https://localhost:8080/"
        },
        "outputId": "20c0ab28-29be-4d8e-db30-67bd0412ab61"
      },
      "outputs": [
        {
          "output_type": "stream",
          "name": "stdout",
          "text": [
            "23/23 [==============================] - 3s 70ms/step\n",
            "11/11 [==============================] - 1s 69ms/step\n"
          ]
        }
      ],
      "source": [
        "train_predict=model.predict(x_train)\n",
        "test_predict=model.predict(x_test)"
      ]
    },
    {
      "cell_type": "code",
      "execution_count": 33,
      "metadata": {
        "id": "aBXdcjaiPBPc"
      },
      "outputs": [],
      "source": [
        "train_predict=scaler.inverse_transform(train_predict)\n",
        "test_predict=scaler.inverse_transform(test_predict)"
      ]
    },
    {
      "cell_type": "code",
      "execution_count": 34,
      "metadata": {
        "id": "vdrPuhaSiOO6",
        "colab": {
          "base_uri": "https://localhost:8080/"
        },
        "outputId": "2691e398-5341-4cc8-8645-e16840535aff"
      },
      "outputs": [
        {
          "output_type": "execute_result",
          "data": {
            "text/plain": [
              "141.35959421736604"
            ]
          },
          "metadata": {},
          "execution_count": 34
        }
      ],
      "source": [
        "import math\n",
        "from sklearn.metrics import mean_squared_error\n",
        "math.sqrt(mean_squared_error(y_train,train_predict))"
      ]
    },
    {
      "cell_type": "code",
      "execution_count": 35,
      "metadata": {
        "id": "MZbWal4YR0VC",
        "colab": {
          "base_uri": "https://localhost:8080/"
        },
        "outputId": "1b627827-51c0-4fde-d182-9c6db6cec2ca"
      },
      "outputs": [
        {
          "output_type": "execute_result",
          "data": {
            "text/plain": [
              "229.92294685789844"
            ]
          },
          "metadata": {},
          "execution_count": 35
        }
      ],
      "source": [
        "math.sqrt(mean_squared_error(ytest,test_predict))"
      ]
    },
    {
      "cell_type": "code",
      "execution_count": 36,
      "metadata": {
        "id": "9U2mvD2SR0X_",
        "colab": {
          "base_uri": "https://localhost:8080/",
          "height": 430
        },
        "outputId": "678e2763-e03a-4335-da07-f97f8c689cbd"
      },
      "outputs": [
        {
          "output_type": "display_data",
          "data": {
            "text/plain": [
              "<Figure size 640x480 with 1 Axes>"
            ],
            "image/png": "[encoded data removed]"
          },
          "metadata": {}
        }
      ],
      "source": [
        "from scipy.sparse.linalg._eigen import test\n",
        "look_back=100\n",
        "trainPredictPlot=numpy.empty_like(df1)\n",
        "trainPredictPlot[:,:]=np.nan\n",
        "trainPredictPlot[look_back:len(train_predict)+look_back,:] = train_predict\n",
        "\n",
        "testPredictPlot=numpy.empty_like(df1)\n",
        "testPredictPlot[:,:]=np.nan\n",
        "testPredictPlot[len(train_predict)+(look_back*2)+1:len(df1)-1,:] = test_predict\n",
        "\n",
        "plt.plot(scaler.inverse_transform(df1))\n",
        "plt.plot(trainPredictPlot)\n",
        "plt.plot(testPredictPlot)\n",
        "plt.show()\n"
      ]
    },
    {
      "cell_type": "code",
      "execution_count": 37,
      "metadata": {
        "id": "7ZihB1dLR0af",
        "colab": {
          "base_uri": "https://localhost:8080/"
        },
        "outputId": "c3d525cb-ddb8-440b-b562-24a24471a6e0"
      },
      "outputs": [
        {
          "output_type": "execute_result",
          "data": {
            "text/plain": [
              "441"
            ]
          },
          "metadata": {},
          "execution_count": 37
        }
      ],
      "source": [
        "len(test_data)"
      ]
    },
    {
      "cell_type": "code",
      "execution_count": 38,
      "metadata": {
        "id": "_qEtWiJWR0c_",
        "colab": {
          "base_uri": "https://localhost:8080/"
        },
        "outputId": "d1ac4d58-4b5c-446b-b661-28ad01b3b633"
      },
      "outputs": [
        {
          "output_type": "execute_result",
          "data": {
            "text/plain": [
              "(1, 100)"
            ]
          },
          "metadata": {},
          "execution_count": 38
        }
      ],
      "source": [
        "x_input=test_data[341:].reshape(1,-1)\n",
        "x_input.shape"
      ]
    },
    {
      "cell_type": "code",
      "execution_count": 39,
      "metadata": {
        "id": "qtbk9hg1R0fc"
      },
      "outputs": [],
      "source": [
        "temp_input=list(x_input)\n",
        "temp_input=temp_input[0].tolist()"
      ]
    },
    {
      "cell_type": "code",
      "execution_count": 40,
      "metadata": {
        "id": "PoIgyuULR0iC",
        "colab": {
          "base_uri": "https://localhost:8080/"
        },
        "outputId": "1fbaa638-d17e-4d36-f853-7d1a445b2fe3"
      },
      "outputs": [
        {
          "data": {
            "text/plain": [
              "[0.8583551465000423,\n",
              " 0.8866418981676942,\n",
              " 0.8743139407244789,\n",
              " 0.8843198513890065,\n",
              " 0.8783669678290975,\n",
              " 0.8986321033521913,\n",
              " 0.925821160179009,\n",
              " 0.9287764924427933,\n",
              " 0.9567677108840666,\n",
              " 0.9386979650426415,\n",
              " 0.933040614709111,\n",
              " 0.9495060373216249,\n",
              " 0.9642404796082076,\n",
              " 0.9551211686228154,\n",
              " 0.9598919192772104,\n",
              " 0.9663514312251966,\n",
              " 0.9624672802499368,\n",
              " 0.9229502659799038,\n",
              " 0.9598497002448705,\n",
              " 0.9879253567508233,\n",
              " 0.985941062230854,\n",
              " 0.9253145317909315,\n",
              " 0.9217259140420504,\n",
              " 0.964747107996285,\n",
              " 0.9757240564046274,\n",
              " 0.9915984125643842,\n",
              " 0.9697289538123788,\n",
              " 0.9761462467280253,\n",
              " 0.9679557544541082,\n",
              " 1.0000000000000002,\n",
              " 0.9901629654648318,\n",
              " 0.9905007177235499,\n",
              " 0.9653803934813816,\n",
              " 0.9848855864223593,\n",
              " 0.9708688676855528,\n",
              " 0.9402600692392133,\n",
              " 0.8774803681499621,\n",
              " 0.8348391454867856,\n",
              " 0.8541332432660644,\n",
              " 0.7733682344000676,\n",
              " 0.7726927298826314,\n",
              " 0.8801401671873683,\n",
              " 0.8400743054969182,\n",
              " 0.8967322468969012,\n",
              " 0.8552731571392387,\n",
              " 0.8388499535590646,\n",
              " 0.7423372456303303,\n",
              " 0.8232711306256861,\n",
              " 0.7814320695769654,\n",
              " 0.6665963016127672,\n",
              " 0.7921557037912694,\n",
              " 0.6411804441442204,\n",
              " 0.6861437135860848,\n",
              " 0.6600101325677616,\n",
              " 0.6520307354555435,\n",
              " 0.5864223591995272,\n",
              " 0.5658616904500551,\n",
              " 0.660896732246897,\n",
              " 0.6551549438486872,\n",
              " 0.7097019336316812,\n",
              " 0.664527569028118,\n",
              " 0.6943764248923416,\n",
              " 0.692181035210673,\n",
              " 0.6356919699400492,\n",
              " 0.6526640209406402,\n",
              " 0.637802921557038,\n",
              " 0.7267162036646122,\n",
              " 0.7138816178333194,\n",
              " 0.7419150553069325,\n",
              " 0.7500211095161702,\n",
              " 0.7722283205268936,\n",
              " 0.8304905851557884,\n",
              " 0.8194291986827664,\n",
              " 0.8289706999915563,\n",
              " 0.8125474964113824,\n",
              " 0.7877649244279323,\n",
              " 0.7516254327450818,\n",
              " 0.7842607447437306,\n",
              " 0.7797433082833742,\n",
              " 0.8132652199611587,\n",
              " 0.8141096006079542,\n",
              " 0.7947310647639958,\n",
              " 0.8333614793548934,\n",
              " 0.8589884319851391,\n",
              " 0.8390188296884238,\n",
              " 0.8562864139153934,\n",
              " 0.8748627881448958,\n",
              " 0.887824031073208,\n",
              " 0.9009541501308793,\n",
              " 0.9279321117959978,\n",
              " 0.9485349995778098,\n",
              " 0.9333361479354896,\n",
              " 0.9174617917757326,\n",
              " 0.925441188887951,\n",
              " 0.9177151059697712,\n",
              " 0.9483239044161109,\n",
              " 0.9406400405302711,\n",
              " 0.9663514312251966,\n",
              " 0.9563033015283293,\n",
              " 0.964915984125644]"
            ]
          },
          "execution_count": 40,
          "metadata": {},
          "output_type": "execute_result"
        }
      ],
      "source": [
        "temp_input"
      ]
    },
    {
      "cell_type": "code",
      "execution_count": 41,
      "metadata": {
        "id": "i_Xl29dRR0lc",
        "colab": {
          "base_uri": "https://localhost:8080/"
        },
        "outputId": "6c7ff819-89cf-45af-d901-e30dda1d48c7"
      },
      "outputs": [
        {
          "output_type": "stream",
          "name": "stdout",
          "text": [
            "[0.86940926]\n",
            "101\n",
            "1 day input [0.8866419  0.87431394 0.88431985 0.87836697 0.8986321  0.92582116\n",
            " 0.92877649 0.95676771 0.93869797 0.93304061 0.94950604 0.96424048\n",
            " 0.95512117 0.95989192 0.96635143 0.96246728 0.92295027 0.9598497\n",
            " 0.98792536 0.98594106 0.92531453 0.92172591 0.96474711 0.97572406\n",
            " 0.99159841 0.96972895 0.97614625 0.96795575 1.         0.99016297\n",
            " 0.99050072 0.96538039 0.98488559 0.97086887 0.94026007 0.87748037\n",
            " 0.83483915 0.85413324 0.77336823 0.77269273 0.88014017 0.84007431\n",
            " 0.89673225 0.85527316 0.83884995 0.74233725 0.82327113 0.78143207\n",
            " 0.6665963  0.7921557  0.64118044 0.68614371 0.66001013 0.65203074\n",
            " 0.58642236 0.56586169 0.66089673 0.65515494 0.70970193 0.66452757\n",
            " 0.69437642 0.69218104 0.63569197 0.65266402 0.63780292 0.7267162\n",
            " 0.71388162 0.74191506 0.75002111 0.77222832 0.83049059 0.8194292\n",
            " 0.8289707  0.8125475  0.78776492 0.75162543 0.78426074 0.77974331\n",
            " 0.81326522 0.8141096  0.79473106 0.83336148 0.85898843 0.83901883\n",
            " 0.85628641 0.87486279 0.88782403 0.90095415 0.92793211 0.948535\n",
            " 0.93333615 0.91746179 0.92544119 0.91771511 0.9483239  0.94064004\n",
            " 0.96635143 0.9563033  0.96491598 0.86940926]\n",
            "1 day output [[0.81562513]]\n",
            "2 day input [0.87431394 0.88431985 0.87836697 0.8986321  0.92582116 0.92877649\n",
            " 0.95676771 0.93869797 0.93304061 0.94950604 0.96424048 0.95512117\n",
            " 0.95989192 0.96635143 0.96246728 0.92295027 0.9598497  0.98792536\n",
            " 0.98594106 0.92531453 0.92172591 0.96474711 0.97572406 0.99159841\n",
            " 0.96972895 0.97614625 0.96795575 1.         0.99016297 0.99050072\n",
            " 0.96538039 0.98488559 0.97086887 0.94026007 0.87748037 0.83483915\n",
            " 0.85413324 0.77336823 0.77269273 0.88014017 0.84007431 0.89673225\n",
            " 0.85527316 0.83884995 0.74233725 0.82327113 0.78143207 0.6665963\n",
            " 0.7921557  0.64118044 0.68614371 0.66001013 0.65203074 0.58642236\n",
            " 0.56586169 0.66089673 0.65515494 0.70970193 0.66452757 0.69437642\n",
            " 0.69218104 0.63569197 0.65266402 0.63780292 0.7267162  0.71388162\n",
            " 0.74191506 0.75002111 0.77222832 0.83049059 0.8194292  0.8289707\n",
            " 0.8125475  0.78776492 0.75162543 0.78426074 0.77974331 0.81326522\n",
            " 0.8141096  0.79473106 0.83336148 0.85898843 0.83901883 0.85628641\n",
            " 0.87486279 0.88782403 0.90095415 0.92793211 0.948535   0.93333615\n",
            " 0.91746179 0.92544119 0.91771511 0.9483239  0.94064004 0.96635143\n",
            " 0.9563033  0.96491598 0.86940926 0.81562513]\n",
            "2 day output [[0.7745466]]\n",
            "3 day input [0.88431985 0.87836697 0.8986321  0.92582116 0.92877649 0.95676771\n",
            " 0.93869797 0.93304061 0.94950604 0.96424048 0.95512117 0.95989192\n",
            " 0.96635143 0.96246728 0.92295027 0.9598497  0.98792536 0.98594106\n",
            " 0.92531453 0.92172591 0.96474711 0.97572406 0.99159841 0.96972895\n",
            " 0.97614625 0.96795575 1.         0.99016297 0.99050072 0.96538039\n",
            " 0.98488559 0.97086887 0.94026007 0.87748037 0.83483915 0.85413324\n",
            " 0.77336823 0.77269273 0.88014017 0.84007431 0.89673225 0.85527316\n",
            " 0.83884995 0.74233725 0.82327113 0.78143207 0.6665963  0.7921557\n",
            " 0.64118044 0.68614371 0.66001013 0.65203074 0.58642236 0.56586169\n",
            " 0.66089673 0.65515494 0.70970193 0.66452757 0.69437642 0.69218104\n",
            " 0.63569197 0.65266402 0.63780292 0.7267162  0.71388162 0.74191506\n",
            " 0.75002111 0.77222832 0.83049059 0.8194292  0.8289707  0.8125475\n",
            " 0.78776492 0.75162543 0.78426074 0.77974331 0.81326522 0.8141096\n",
            " 0.79473106 0.83336148 0.85898843 0.83901883 0.85628641 0.87486279\n",
            " 0.88782403 0.90095415 0.92793211 0.948535   0.93333615 0.91746179\n",
            " 0.92544119 0.91771511 0.9483239  0.94064004 0.96635143 0.9563033\n",
            " 0.96491598 0.86940926 0.81562513 0.77454662]\n",
            "3 day output [[0.74099463]]\n",
            "4 day input [0.87836697 0.8986321  0.92582116 0.92877649 0.95676771 0.93869797\n",
            " 0.93304061 0.94950604 0.96424048 0.95512117 0.95989192 0.96635143\n",
            " 0.96246728 0.92295027 0.9598497  0.98792536 0.98594106 0.92531453\n",
            " 0.92172591 0.96474711 0.97572406 0.99159841 0.96972895 0.97614625\n",
            " 0.96795575 1.         0.99016297 0.99050072 0.96538039 0.98488559\n",
            " 0.97086887 0.94026007 0.87748037 0.83483915 0.85413324 0.77336823\n",
            " 0.77269273 0.88014017 0.84007431 0.89673225 0.85527316 0.83884995\n",
            " 0.74233725 0.82327113 0.78143207 0.6665963  0.7921557  0.64118044\n",
            " 0.68614371 0.66001013 0.65203074 0.58642236 0.56586169 0.66089673\n",
            " 0.65515494 0.70970193 0.66452757 0.69437642 0.69218104 0.63569197\n",
            " 0.65266402 0.63780292 0.7267162  0.71388162 0.74191506 0.75002111\n",
            " 0.77222832 0.83049059 0.8194292  0.8289707  0.8125475  0.78776492\n",
            " 0.75162543 0.78426074 0.77974331 0.81326522 0.8141096  0.79473106\n",
            " 0.83336148 0.85898843 0.83901883 0.85628641 0.87486279 0.88782403\n",
            " 0.90095415 0.92793211 0.948535   0.93333615 0.91746179 0.92544119\n",
            " 0.91771511 0.9483239  0.94064004 0.96635143 0.9563033  0.96491598\n",
            " 0.86940926 0.81562513 0.77454662 0.74099463]\n",
            "4 day output [[0.7127861]]\n",
            "5 day input [0.8986321  0.92582116 0.92877649 0.95676771 0.93869797 0.93304061\n",
            " 0.94950604 0.96424048 0.95512117 0.95989192 0.96635143 0.96246728\n",
            " 0.92295027 0.9598497  0.98792536 0.98594106 0.92531453 0.92172591\n",
            " 0.96474711 0.97572406 0.99159841 0.96972895 0.97614625 0.96795575\n",
            " 1.         0.99016297 0.99050072 0.96538039 0.98488559 0.97086887\n",
            " 0.94026007 0.87748037 0.83483915 0.85413324 0.77336823 0.77269273\n",
            " 0.88014017 0.84007431 0.89673225 0.85527316 0.83884995 0.74233725\n",
            " 0.82327113 0.78143207 0.6665963  0.7921557  0.64118044 0.68614371\n",
            " 0.66001013 0.65203074 0.58642236 0.56586169 0.66089673 0.65515494\n",
            " 0.70970193 0.66452757 0.69437642 0.69218104 0.63569197 0.65266402\n",
            " 0.63780292 0.7267162  0.71388162 0.74191506 0.75002111 0.77222832\n",
            " 0.83049059 0.8194292  0.8289707  0.8125475  0.78776492 0.75162543\n",
            " 0.78426074 0.77974331 0.81326522 0.8141096  0.79473106 0.83336148\n",
            " 0.85898843 0.83901883 0.85628641 0.87486279 0.88782403 0.90095415\n",
            " 0.92793211 0.948535   0.93333615 0.91746179 0.92544119 0.91771511\n",
            " 0.9483239  0.94064004 0.96635143 0.9563033  0.96491598 0.86940926\n",
            " 0.81562513 0.77454662 0.74099463 0.71278608]\n",
            "5 day output [[0.6888763]]\n",
            "6 day input [0.92582116 0.92877649 0.95676771 0.93869797 0.93304061 0.94950604\n",
            " 0.96424048 0.95512117 0.95989192 0.96635143 0.96246728 0.92295027\n",
            " 0.9598497  0.98792536 0.98594106 0.92531453 0.92172591 0.96474711\n",
            " 0.97572406 0.99159841 0.96972895 0.97614625 0.96795575 1.\n",
            " 0.99016297 0.99050072 0.96538039 0.98488559 0.97086887 0.94026007\n",
            " 0.87748037 0.83483915 0.85413324 0.77336823 0.77269273 0.88014017\n",
            " 0.84007431 0.89673225 0.85527316 0.83884995 0.74233725 0.82327113\n",
            " 0.78143207 0.6665963  0.7921557  0.64118044 0.68614371 0.66001013\n",
            " 0.65203074 0.58642236 0.56586169 0.66089673 0.65515494 0.70970193\n",
            " 0.66452757 0.69437642 0.69218104 0.63569197 0.65266402 0.63780292\n",
            " 0.7267162  0.71388162 0.74191506 0.75002111 0.77222832 0.83049059\n",
            " 0.8194292  0.8289707  0.8125475  0.78776492 0.75162543 0.78426074\n",
            " 0.77974331 0.81326522 0.8141096  0.79473106 0.83336148 0.85898843\n",
            " 0.83901883 0.85628641 0.87486279 0.88782403 0.90095415 0.92793211\n",
            " 0.948535   0.93333615 0.91746179 0.92544119 0.91771511 0.9483239\n",
            " 0.94064004 0.96635143 0.9563033  0.96491598 0.86940926 0.81562513\n",
            " 0.77454662 0.74099463 0.71278608 0.68887627]\n",
            "6 day output [[0.6684811]]\n",
            "7 day input [0.92877649 0.95676771 0.93869797 0.93304061 0.94950604 0.96424048\n",
            " 0.95512117 0.95989192 0.96635143 0.96246728 0.92295027 0.9598497\n",
            " 0.98792536 0.98594106 0.92531453 0.92172591 0.96474711 0.97572406\n",
            " 0.99159841 0.96972895 0.97614625 0.96795575 1.         0.99016297\n",
            " 0.99050072 0.96538039 0.98488559 0.97086887 0.94026007 0.87748037\n",
            " 0.83483915 0.85413324 0.77336823 0.77269273 0.88014017 0.84007431\n",
            " 0.89673225 0.85527316 0.83884995 0.74233725 0.82327113 0.78143207\n",
            " 0.6665963  0.7921557  0.64118044 0.68614371 0.66001013 0.65203074\n",
            " 0.58642236 0.56586169 0.66089673 0.65515494 0.70970193 0.66452757\n",
            " 0.69437642 0.69218104 0.63569197 0.65266402 0.63780292 0.7267162\n",
            " 0.71388162 0.74191506 0.75002111 0.77222832 0.83049059 0.8194292\n",
            " 0.8289707  0.8125475  0.78776492 0.75162543 0.78426074 0.77974331\n",
            " 0.81326522 0.8141096  0.79473106 0.83336148 0.85898843 0.83901883\n",
            " 0.85628641 0.87486279 0.88782403 0.90095415 0.92793211 0.948535\n",
            " 0.93333615 0.91746179 0.92544119 0.91771511 0.9483239  0.94064004\n",
            " 0.96635143 0.9563033  0.96491598 0.86940926 0.81562513 0.77454662\n",
            " 0.74099463 0.71278608 0.68887627 0.66848111]\n",
            "7 day output [[0.65092707]]\n",
            "8 day input [0.95676771 0.93869797 0.93304061 0.94950604 0.96424048 0.95512117\n",
            " 0.95989192 0.96635143 0.96246728 0.92295027 0.9598497  0.98792536\n",
            " 0.98594106 0.92531453 0.92172591 0.96474711 0.97572406 0.99159841\n",
            " 0.96972895 0.97614625 0.96795575 1.         0.99016297 0.99050072\n",
            " 0.96538039 0.98488559 0.97086887 0.94026007 0.87748037 0.83483915\n",
            " 0.85413324 0.77336823 0.77269273 0.88014017 0.84007431 0.89673225\n",
            " 0.85527316 0.83884995 0.74233725 0.82327113 0.78143207 0.6665963\n",
            " 0.7921557  0.64118044 0.68614371 0.66001013 0.65203074 0.58642236\n",
            " 0.56586169 0.66089673 0.65515494 0.70970193 0.66452757 0.69437642\n",
            " 0.69218104 0.63569197 0.65266402 0.63780292 0.7267162  0.71388162\n",
            " 0.74191506 0.75002111 0.77222832 0.83049059 0.8194292  0.8289707\n",
            " 0.8125475  0.78776492 0.75162543 0.78426074 0.77974331 0.81326522\n",
            " 0.8141096  0.79473106 0.83336148 0.85898843 0.83901883 0.85628641\n",
            " 0.87486279 0.88782403 0.90095415 0.92793211 0.948535   0.93333615\n",
            " 0.91746179 0.92544119 0.91771511 0.9483239  0.94064004 0.96635143\n",
            " 0.9563033  0.96491598 0.86940926 0.81562513 0.77454662 0.74099463\n",
            " 0.71278608 0.68887627 0.66848111 0.65092707]\n",
            "8 day output [[0.6356136]]\n",
            "9 day input [0.93869797 0.93304061 0.94950604 0.96424048 0.95512117 0.95989192\n",
            " 0.96635143 0.96246728 0.92295027 0.9598497  0.98792536 0.98594106\n",
            " 0.92531453 0.92172591 0.96474711 0.97572406 0.99159841 0.96972895\n",
            " 0.97614625 0.96795575 1.         0.99016297 0.99050072 0.96538039\n",
            " 0.98488559 0.97086887 0.94026007 0.87748037 0.83483915 0.85413324\n",
            " 0.77336823 0.77269273 0.88014017 0.84007431 0.89673225 0.85527316\n",
            " 0.83884995 0.74233725 0.82327113 0.78143207 0.6665963  0.7921557\n",
            " 0.64118044 0.68614371 0.66001013 0.65203074 0.58642236 0.56586169\n",
            " 0.66089673 0.65515494 0.70970193 0.66452757 0.69437642 0.69218104\n",
            " 0.63569197 0.65266402 0.63780292 0.7267162  0.71388162 0.74191506\n",
            " 0.75002111 0.77222832 0.83049059 0.8194292  0.8289707  0.8125475\n",
            " 0.78776492 0.75162543 0.78426074 0.77974331 0.81326522 0.8141096\n",
            " 0.79473106 0.83336148 0.85898843 0.83901883 0.85628641 0.87486279\n",
            " 0.88782403 0.90095415 0.92793211 0.948535   0.93333615 0.91746179\n",
            " 0.92544119 0.91771511 0.9483239  0.94064004 0.96635143 0.9563033\n",
            " 0.96491598 0.86940926 0.81562513 0.77454662 0.74099463 0.71278608\n",
            " 0.68887627 0.66848111 0.65092707 0.63561362]\n",
            "9 day output [[0.6220238]]\n",
            "10 day input [0.93304061 0.94950604 0.96424048 0.95512117 0.95989192 0.96635143\n",
            " 0.96246728 0.92295027 0.9598497  0.98792536 0.98594106 0.92531453\n",
            " 0.92172591 0.96474711 0.97572406 0.99159841 0.96972895 0.97614625\n",
            " 0.96795575 1.         0.99016297 0.99050072 0.96538039 0.98488559\n",
            " 0.97086887 0.94026007 0.87748037 0.83483915 0.85413324 0.77336823\n",
            " 0.77269273 0.88014017 0.84007431 0.89673225 0.85527316 0.83884995\n",
            " 0.74233725 0.82327113 0.78143207 0.6665963  0.7921557  0.64118044\n",
            " 0.68614371 0.66001013 0.65203074 0.58642236 0.56586169 0.66089673\n",
            " 0.65515494 0.70970193 0.66452757 0.69437642 0.69218104 0.63569197\n",
            " 0.65266402 0.63780292 0.7267162  0.71388162 0.74191506 0.75002111\n",
            " 0.77222832 0.83049059 0.8194292  0.8289707  0.8125475  0.78776492\n",
            " 0.75162543 0.78426074 0.77974331 0.81326522 0.8141096  0.79473106\n",
            " 0.83336148 0.85898843 0.83901883 0.85628641 0.87486279 0.88782403\n",
            " 0.90095415 0.92793211 0.948535   0.93333615 0.91746179 0.92544119\n",
            " 0.91771511 0.9483239  0.94064004 0.96635143 0.9563033  0.96491598\n",
            " 0.86940926 0.81562513 0.77454662 0.74099463 0.71278608 0.68887627\n",
            " 0.66848111 0.65092707 0.63561362 0.62202382]\n",
            "10 day output [[0.60973316]]\n",
            "11 day input [0.94950604 0.96424048 0.95512117 0.95989192 0.96635143 0.96246728\n",
            " 0.92295027 0.9598497  0.98792536 0.98594106 0.92531453 0.92172591\n",
            " 0.96474711 0.97572406 0.99159841 0.96972895 0.97614625 0.96795575\n",
            " 1.         0.99016297 0.99050072 0.96538039 0.98488559 0.97086887\n",
            " 0.94026007 0.87748037 0.83483915 0.85413324 0.77336823 0.77269273\n",
            " 0.88014017 0.84007431 0.89673225 0.85527316 0.83884995 0.74233725\n",
            " 0.82327113 0.78143207 0.6665963  0.7921557  0.64118044 0.68614371\n",
            " 0.66001013 0.65203074 0.58642236 0.56586169 0.66089673 0.65515494\n",
            " 0.70970193 0.66452757 0.69437642 0.69218104 0.63569197 0.65266402\n",
            " 0.63780292 0.7267162  0.71388162 0.74191506 0.75002111 0.77222832\n",
            " 0.83049059 0.8194292  0.8289707  0.8125475  0.78776492 0.75162543\n",
            " 0.78426074 0.77974331 0.81326522 0.8141096  0.79473106 0.83336148\n",
            " 0.85898843 0.83901883 0.85628641 0.87486279 0.88782403 0.90095415\n",
            " 0.92793211 0.948535   0.93333615 0.91746179 0.92544119 0.91771511\n",
            " 0.9483239  0.94064004 0.96635143 0.9563033  0.96491598 0.86940926\n",
            " 0.81562513 0.77454662 0.74099463 0.71278608 0.68887627 0.66848111\n",
            " 0.65092707 0.63561362 0.62202382 0.60973316]\n",
            "11 day output [[0.59841233]]\n",
            "12 day input [0.96424048 0.95512117 0.95989192 0.96635143 0.96246728 0.92295027\n",
            " 0.9598497  0.98792536 0.98594106 0.92531453 0.92172591 0.96474711\n",
            " 0.97572406 0.99159841 0.96972895 0.97614625 0.96795575 1.\n",
            " 0.99016297 0.99050072 0.96538039 0.98488559 0.97086887 0.94026007\n",
            " 0.87748037 0.83483915 0.85413324 0.77336823 0.77269273 0.88014017\n",
            " 0.84007431 0.89673225 0.85527316 0.83884995 0.74233725 0.82327113\n",
            " 0.78143207 0.6665963  0.7921557  0.64118044 0.68614371 0.66001013\n",
            " 0.65203074 0.58642236 0.56586169 0.66089673 0.65515494 0.70970193\n",
            " 0.66452757 0.69437642 0.69218104 0.63569197 0.65266402 0.63780292\n",
            " 0.7267162  0.71388162 0.74191506 0.75002111 0.77222832 0.83049059\n",
            " 0.8194292  0.8289707  0.8125475  0.78776492 0.75162543 0.78426074\n",
            " 0.77974331 0.81326522 0.8141096  0.79473106 0.83336148 0.85898843\n",
            " 0.83901883 0.85628641 0.87486279 0.88782403 0.90095415 0.92793211\n",
            " 0.948535   0.93333615 0.91746179 0.92544119 0.91771511 0.9483239\n",
            " 0.94064004 0.96635143 0.9563033  0.96491598 0.86940926 0.81562513\n",
            " 0.77454662 0.74099463 0.71278608 0.68887627 0.66848111 0.65092707\n",
            " 0.63561362 0.62202382 0.60973316 0.59841233]\n",
            "12 day output [[0.5878185]]\n",
            "13 day input [0.95512117 0.95989192 0.96635143 0.96246728 0.92295027 0.9598497\n",
            " 0.98792536 0.98594106 0.92531453 0.92172591 0.96474711 0.97572406\n",
            " 0.99159841 0.96972895 0.97614625 0.96795575 1.         0.99016297\n",
            " 0.99050072 0.96538039 0.98488559 0.97086887 0.94026007 0.87748037\n",
            " 0.83483915 0.85413324 0.77336823 0.77269273 0.88014017 0.84007431\n",
            " 0.89673225 0.85527316 0.83884995 0.74233725 0.82327113 0.78143207\n",
            " 0.6665963  0.7921557  0.64118044 0.68614371 0.66001013 0.65203074\n",
            " 0.58642236 0.56586169 0.66089673 0.65515494 0.70970193 0.66452757\n",
            " 0.69437642 0.69218104 0.63569197 0.65266402 0.63780292 0.7267162\n",
            " 0.71388162 0.74191506 0.75002111 0.77222832 0.83049059 0.8194292\n",
            " 0.8289707  0.8125475  0.78776492 0.75162543 0.78426074 0.77974331\n",
            " 0.81326522 0.8141096  0.79473106 0.83336148 0.85898843 0.83901883\n",
            " 0.85628641 0.87486279 0.88782403 0.90095415 0.92793211 0.948535\n",
            " 0.93333615 0.91746179 0.92544119 0.91771511 0.9483239  0.94064004\n",
            " 0.96635143 0.9563033  0.96491598 0.86940926 0.81562513 0.77454662\n",
            " 0.74099463 0.71278608 0.68887627 0.66848111 0.65092707 0.63561362\n",
            " 0.62202382 0.60973316 0.59841233 0.5878185 ]\n",
            "13 day output [[0.5777809]]\n",
            "14 day input [0.95989192 0.96635143 0.96246728 0.92295027 0.9598497  0.98792536\n",
            " 0.98594106 0.92531453 0.92172591 0.96474711 0.97572406 0.99159841\n",
            " 0.96972895 0.97614625 0.96795575 1.         0.99016297 0.99050072\n",
            " 0.96538039 0.98488559 0.97086887 0.94026007 0.87748037 0.83483915\n",
            " 0.85413324 0.77336823 0.77269273 0.88014017 0.84007431 0.89673225\n",
            " 0.85527316 0.83884995 0.74233725 0.82327113 0.78143207 0.6665963\n",
            " 0.7921557  0.64118044 0.68614371 0.66001013 0.65203074 0.58642236\n",
            " 0.56586169 0.66089673 0.65515494 0.70970193 0.66452757 0.69437642\n",
            " 0.69218104 0.63569197 0.65266402 0.63780292 0.7267162  0.71388162\n",
            " 0.74191506 0.75002111 0.77222832 0.83049059 0.8194292  0.8289707\n",
            " 0.8125475  0.78776492 0.75162543 0.78426074 0.77974331 0.81326522\n",
            " 0.8141096  0.79473106 0.83336148 0.85898843 0.83901883 0.85628641\n",
            " 0.87486279 0.88782403 0.90095415 0.92793211 0.948535   0.93333615\n",
            " 0.91746179 0.92544119 0.91771511 0.9483239  0.94064004 0.96635143\n",
            " 0.9563033  0.96491598 0.86940926 0.81562513 0.77454662 0.74099463\n",
            " 0.71278608 0.68887627 0.66848111 0.65092707 0.63561362 0.62202382\n",
            " 0.60973316 0.59841233 0.5878185  0.5777809 ]\n",
            "14 day output [[0.5681859]]\n",
            "15 day input [0.96635143 0.96246728 0.92295027 0.9598497  0.98792536 0.98594106\n",
            " 0.92531453 0.92172591 0.96474711 0.97572406 0.99159841 0.96972895\n",
            " 0.97614625 0.96795575 1.         0.99016297 0.99050072 0.96538039\n",
            " 0.98488559 0.97086887 0.94026007 0.87748037 0.83483915 0.85413324\n",
            " 0.77336823 0.77269273 0.88014017 0.84007431 0.89673225 0.85527316\n",
            " 0.83884995 0.74233725 0.82327113 0.78143207 0.6665963  0.7921557\n",
            " 0.64118044 0.68614371 0.66001013 0.65203074 0.58642236 0.56586169\n",
            " 0.66089673 0.65515494 0.70970193 0.66452757 0.69437642 0.69218104\n",
            " 0.63569197 0.65266402 0.63780292 0.7267162  0.71388162 0.74191506\n",
            " 0.75002111 0.77222832 0.83049059 0.8194292  0.8289707  0.8125475\n",
            " 0.78776492 0.75162543 0.78426074 0.77974331 0.81326522 0.8141096\n",
            " 0.79473106 0.83336148 0.85898843 0.83901883 0.85628641 0.87486279\n",
            " 0.88782403 0.90095415 0.92793211 0.948535   0.93333615 0.91746179\n",
            " 0.92544119 0.91771511 0.9483239  0.94064004 0.96635143 0.9563033\n",
            " 0.96491598 0.86940926 0.81562513 0.77454662 0.74099463 0.71278608\n",
            " 0.68887627 0.66848111 0.65092707 0.63561362 0.62202382 0.60973316\n",
            " 0.59841233 0.5878185  0.5777809  0.56818593]\n",
            "15 day output [[0.5589625]]\n",
            "16 day input [0.96246728 0.92295027 0.9598497  0.98792536 0.98594106 0.92531453\n",
            " 0.92172591 0.96474711 0.97572406 0.99159841 0.96972895 0.97614625\n",
            " 0.96795575 1.         0.99016297 0.99050072 0.96538039 0.98488559\n",
            " 0.97086887 0.94026007 0.87748037 0.83483915 0.85413324 0.77336823\n",
            " 0.77269273 0.88014017 0.84007431 0.89673225 0.85527316 0.83884995\n",
            " 0.74233725 0.82327113 0.78143207 0.6665963  0.7921557  0.64118044\n",
            " 0.68614371 0.66001013 0.65203074 0.58642236 0.56586169 0.66089673\n",
            " 0.65515494 0.70970193 0.66452757 0.69437642 0.69218104 0.63569197\n",
            " 0.65266402 0.63780292 0.7267162  0.71388162 0.74191506 0.75002111\n",
            " 0.77222832 0.83049059 0.8194292  0.8289707  0.8125475  0.78776492\n",
            " 0.75162543 0.78426074 0.77974331 0.81326522 0.8141096  0.79473106\n",
            " 0.83336148 0.85898843 0.83901883 0.85628641 0.87486279 0.88782403\n",
            " 0.90095415 0.92793211 0.948535   0.93333615 0.91746179 0.92544119\n",
            " 0.91771511 0.9483239  0.94064004 0.96635143 0.9563033  0.96491598\n",
            " 0.86940926 0.81562513 0.77454662 0.74099463 0.71278608 0.68887627\n",
            " 0.66848111 0.65092707 0.63561362 0.62202382 0.60973316 0.59841233\n",
            " 0.5878185  0.5777809  0.56818593 0.55896252]\n",
            "16 day output [[0.5500674]]\n",
            "17 day input [0.92295027 0.9598497  0.98792536 0.98594106 0.92531453 0.92172591\n",
            " 0.96474711 0.97572406 0.99159841 0.96972895 0.97614625 0.96795575\n",
            " 1.         0.99016297 0.99050072 0.96538039 0.98488559 0.97086887\n",
            " 0.94026007 0.87748037 0.83483915 0.85413324 0.77336823 0.77269273\n",
            " 0.88014017 0.84007431 0.89673225 0.85527316 0.83884995 0.74233725\n",
            " 0.82327113 0.78143207 0.6665963  0.7921557  0.64118044 0.68614371\n",
            " 0.66001013 0.65203074 0.58642236 0.56586169 0.66089673 0.65515494\n",
            " 0.70970193 0.66452757 0.69437642 0.69218104 0.63569197 0.65266402\n",
            " 0.63780292 0.7267162  0.71388162 0.74191506 0.75002111 0.77222832\n",
            " 0.83049059 0.8194292  0.8289707  0.8125475  0.78776492 0.75162543\n",
            " 0.78426074 0.77974331 0.81326522 0.8141096  0.79473106 0.83336148\n",
            " 0.85898843 0.83901883 0.85628641 0.87486279 0.88782403 0.90095415\n",
            " 0.92793211 0.948535   0.93333615 0.91746179 0.92544119 0.91771511\n",
            " 0.9483239  0.94064004 0.96635143 0.9563033  0.96491598 0.86940926\n",
            " 0.81562513 0.77454662 0.74099463 0.71278608 0.68887627 0.66848111\n",
            " 0.65092707 0.63561362 0.62202382 0.60973316 0.59841233 0.5878185\n",
            " 0.5777809  0.56818593 0.55896252 0.55006742]\n",
            "17 day output [[0.54147613]]\n",
            "18 day input [0.9598497  0.98792536 0.98594106 0.92531453 0.92172591 0.96474711\n",
            " 0.97572406 0.99159841 0.96972895 0.97614625 0.96795575 1.\n",
            " 0.99016297 0.99050072 0.96538039 0.98488559 0.97086887 0.94026007\n",
            " 0.87748037 0.83483915 0.85413324 0.77336823 0.77269273 0.88014017\n",
            " 0.84007431 0.89673225 0.85527316 0.83884995 0.74233725 0.82327113\n",
            " 0.78143207 0.6665963  0.7921557  0.64118044 0.68614371 0.66001013\n",
            " 0.65203074 0.58642236 0.56586169 0.66089673 0.65515494 0.70970193\n",
            " 0.66452757 0.69437642 0.69218104 0.63569197 0.65266402 0.63780292\n",
            " 0.7267162  0.71388162 0.74191506 0.75002111 0.77222832 0.83049059\n",
            " 0.8194292  0.8289707  0.8125475  0.78776492 0.75162543 0.78426074\n",
            " 0.77974331 0.81326522 0.8141096  0.79473106 0.83336148 0.85898843\n",
            " 0.83901883 0.85628641 0.87486279 0.88782403 0.90095415 0.92793211\n",
            " 0.948535   0.93333615 0.91746179 0.92544119 0.91771511 0.9483239\n",
            " 0.94064004 0.96635143 0.9563033  0.96491598 0.86940926 0.81562513\n",
            " 0.77454662 0.74099463 0.71278608 0.68887627 0.66848111 0.65092707\n",
            " 0.63561362 0.62202382 0.60973316 0.59841233 0.5878185  0.5777809\n",
            " 0.56818593 0.55896252 0.55006742 0.54147613]\n",
            "18 day output [[0.5331749]]\n",
            "19 day input [0.98792536 0.98594106 0.92531453 0.92172591 0.96474711 0.97572406\n",
            " 0.99159841 0.96972895 0.97614625 0.96795575 1.         0.99016297\n",
            " 0.99050072 0.96538039 0.98488559 0.97086887 0.94026007 0.87748037\n",
            " 0.83483915 0.85413324 0.77336823 0.77269273 0.88014017 0.84007431\n",
            " 0.89673225 0.85527316 0.83884995 0.74233725 0.82327113 0.78143207\n",
            " 0.6665963  0.7921557  0.64118044 0.68614371 0.66001013 0.65203074\n",
            " 0.58642236 0.56586169 0.66089673 0.65515494 0.70970193 0.66452757\n",
            " 0.69437642 0.69218104 0.63569197 0.65266402 0.63780292 0.7267162\n",
            " 0.71388162 0.74191506 0.75002111 0.77222832 0.83049059 0.8194292\n",
            " 0.8289707  0.8125475  0.78776492 0.75162543 0.78426074 0.77974331\n",
            " 0.81326522 0.8141096  0.79473106 0.83336148 0.85898843 0.83901883\n",
            " 0.85628641 0.87486279 0.88782403 0.90095415 0.92793211 0.948535\n",
            " 0.93333615 0.91746179 0.92544119 0.91771511 0.9483239  0.94064004\n",
            " 0.96635143 0.9563033  0.96491598 0.86940926 0.81562513 0.77454662\n",
            " 0.74099463 0.71278608 0.68887627 0.66848111 0.65092707 0.63561362\n",
            " 0.62202382 0.60973316 0.59841233 0.5878185  0.5777809  0.56818593\n",
            " 0.55896252 0.55006742 0.54147613 0.53317487]\n",
            "19 day output [[0.52515566]]\n",
            "20 day input [0.98594106 0.92531453 0.92172591 0.96474711 0.97572406 0.99159841\n",
            " 0.96972895 0.97614625 0.96795575 1.         0.99016297 0.99050072\n",
            " 0.96538039 0.98488559 0.97086887 0.94026007 0.87748037 0.83483915\n",
            " 0.85413324 0.77336823 0.77269273 0.88014017 0.84007431 0.89673225\n",
            " 0.85527316 0.83884995 0.74233725 0.82327113 0.78143207 0.6665963\n",
            " 0.7921557  0.64118044 0.68614371 0.66001013 0.65203074 0.58642236\n",
            " 0.56586169 0.66089673 0.65515494 0.70970193 0.66452757 0.69437642\n",
            " 0.69218104 0.63569197 0.65266402 0.63780292 0.7267162  0.71388162\n",
            " 0.74191506 0.75002111 0.77222832 0.83049059 0.8194292  0.8289707\n",
            " 0.8125475  0.78776492 0.75162543 0.78426074 0.77974331 0.81326522\n",
            " 0.8141096  0.79473106 0.83336148 0.85898843 0.83901883 0.85628641\n",
            " 0.87486279 0.88782403 0.90095415 0.92793211 0.948535   0.93333615\n",
            " 0.91746179 0.92544119 0.91771511 0.9483239  0.94064004 0.96635143\n",
            " 0.9563033  0.96491598 0.86940926 0.81562513 0.77454662 0.74099463\n",
            " 0.71278608 0.68887627 0.66848111 0.65092707 0.63561362 0.62202382\n",
            " 0.60973316 0.59841233 0.5878185  0.5777809  0.56818593 0.55896252\n",
            " 0.55006742 0.54147613 0.53317487 0.52515566]\n",
            "20 day output [[0.5174115]]\n",
            "21 day input [0.92531453 0.92172591 0.96474711 0.97572406 0.99159841 0.96972895\n",
            " 0.97614625 0.96795575 1.         0.99016297 0.99050072 0.96538039\n",
            " 0.98488559 0.97086887 0.94026007 0.87748037 0.83483915 0.85413324\n",
            " 0.77336823 0.77269273 0.88014017 0.84007431 0.89673225 0.85527316\n",
            " 0.83884995 0.74233725 0.82327113 0.78143207 0.6665963  0.7921557\n",
            " 0.64118044 0.68614371 0.66001013 0.65203074 0.58642236 0.56586169\n",
            " 0.66089673 0.65515494 0.70970193 0.66452757 0.69437642 0.69218104\n",
            " 0.63569197 0.65266402 0.63780292 0.7267162  0.71388162 0.74191506\n",
            " 0.75002111 0.77222832 0.83049059 0.8194292  0.8289707  0.8125475\n",
            " 0.78776492 0.75162543 0.78426074 0.77974331 0.81326522 0.8141096\n",
            " 0.79473106 0.83336148 0.85898843 0.83901883 0.85628641 0.87486279\n",
            " 0.88782403 0.90095415 0.92793211 0.948535   0.93333615 0.91746179\n",
            " 0.92544119 0.91771511 0.9483239  0.94064004 0.96635143 0.9563033\n",
            " 0.96491598 0.86940926 0.81562513 0.77454662 0.74099463 0.71278608\n",
            " 0.68887627 0.66848111 0.65092707 0.63561362 0.62202382 0.60973316\n",
            " 0.59841233 0.5878185  0.5777809  0.56818593 0.55896252 0.55006742\n",
            " 0.54147613 0.53317487 0.52515566 0.51741147]\n",
            "21 day output [[0.5099363]]\n",
            "22 day input [0.92172591 0.96474711 0.97572406 0.99159841 0.96972895 0.97614625\n",
            " 0.96795575 1.         0.99016297 0.99050072 0.96538039 0.98488559\n",
            " 0.97086887 0.94026007 0.87748037 0.83483915 0.85413324 0.77336823\n",
            " 0.77269273 0.88014017 0.84007431 0.89673225 0.85527316 0.83884995\n",
            " 0.74233725 0.82327113 0.78143207 0.6665963  0.7921557  0.64118044\n",
            " 0.68614371 0.66001013 0.65203074 0.58642236 0.56586169 0.66089673\n",
            " 0.65515494 0.70970193 0.66452757 0.69437642 0.69218104 0.63569197\n",
            " 0.65266402 0.63780292 0.7267162  0.71388162 0.74191506 0.75002111\n",
            " 0.77222832 0.83049059 0.8194292  0.8289707  0.8125475  0.78776492\n",
            " 0.75162543 0.78426074 0.77974331 0.81326522 0.8141096  0.79473106\n",
            " 0.83336148 0.85898843 0.83901883 0.85628641 0.87486279 0.88782403\n",
            " 0.90095415 0.92793211 0.948535   0.93333615 0.91746179 0.92544119\n",
            " 0.91771511 0.9483239  0.94064004 0.96635143 0.9563033  0.96491598\n",
            " 0.86940926 0.81562513 0.77454662 0.74099463 0.71278608 0.68887627\n",
            " 0.66848111 0.65092707 0.63561362 0.62202382 0.60973316 0.59841233\n",
            " 0.5878185  0.5777809  0.56818593 0.55896252 0.55006742 0.54147613\n",
            " 0.53317487 0.52515566 0.51741147 0.50993627]\n",
            "22 day output [[0.5027224]]\n",
            "23 day input [0.96474711 0.97572406 0.99159841 0.96972895 0.97614625 0.96795575\n",
            " 1.         0.99016297 0.99050072 0.96538039 0.98488559 0.97086887\n",
            " 0.94026007 0.87748037 0.83483915 0.85413324 0.77336823 0.77269273\n",
            " 0.88014017 0.84007431 0.89673225 0.85527316 0.83884995 0.74233725\n",
            " 0.82327113 0.78143207 0.6665963  0.7921557  0.64118044 0.68614371\n",
            " 0.66001013 0.65203074 0.58642236 0.56586169 0.66089673 0.65515494\n",
            " 0.70970193 0.66452757 0.69437642 0.69218104 0.63569197 0.65266402\n",
            " 0.63780292 0.7267162  0.71388162 0.74191506 0.75002111 0.77222832\n",
            " 0.83049059 0.8194292  0.8289707  0.8125475  0.78776492 0.75162543\n",
            " 0.78426074 0.77974331 0.81326522 0.8141096  0.79473106 0.83336148\n",
            " 0.85898843 0.83901883 0.85628641 0.87486279 0.88782403 0.90095415\n",
            " 0.92793211 0.948535   0.93333615 0.91746179 0.92544119 0.91771511\n",
            " 0.9483239  0.94064004 0.96635143 0.9563033  0.96491598 0.86940926\n",
            " 0.81562513 0.77454662 0.74099463 0.71278608 0.68887627 0.66848111\n",
            " 0.65092707 0.63561362 0.62202382 0.60973316 0.59841233 0.5878185\n",
            " 0.5777809  0.56818593 0.55896252 0.55006742 0.54147613 0.53317487\n",
            " 0.52515566 0.51741147 0.50993627 0.50272238]\n",
            "23 day output [[0.4957608]]\n",
            "24 day input [0.97572406 0.99159841 0.96972895 0.97614625 0.96795575 1.\n",
            " 0.99016297 0.99050072 0.96538039 0.98488559 0.97086887 0.94026007\n",
            " 0.87748037 0.83483915 0.85413324 0.77336823 0.77269273 0.88014017\n",
            " 0.84007431 0.89673225 0.85527316 0.83884995 0.74233725 0.82327113\n",
            " 0.78143207 0.6665963  0.7921557  0.64118044 0.68614371 0.66001013\n",
            " 0.65203074 0.58642236 0.56586169 0.66089673 0.65515494 0.70970193\n",
            " 0.66452757 0.69437642 0.69218104 0.63569197 0.65266402 0.63780292\n",
            " 0.7267162  0.71388162 0.74191506 0.75002111 0.77222832 0.83049059\n",
            " 0.8194292  0.8289707  0.8125475  0.78776492 0.75162543 0.78426074\n",
            " 0.77974331 0.81326522 0.8141096  0.79473106 0.83336148 0.85898843\n",
            " 0.83901883 0.85628641 0.87486279 0.88782403 0.90095415 0.92793211\n",
            " 0.948535   0.93333615 0.91746179 0.92544119 0.91771511 0.9483239\n",
            " 0.94064004 0.96635143 0.9563033  0.96491598 0.86940926 0.81562513\n",
            " 0.77454662 0.74099463 0.71278608 0.68887627 0.66848111 0.65092707\n",
            " 0.63561362 0.62202382 0.60973316 0.59841233 0.5878185  0.5777809\n",
            " 0.56818593 0.55896252 0.55006742 0.54147613 0.53317487 0.52515566\n",
            " 0.51741147 0.50993627 0.50272238 0.4957608 ]\n",
            "24 day output [[0.4890412]]\n",
            "25 day input [0.99159841 0.96972895 0.97614625 0.96795575 1.         0.99016297\n",
            " 0.99050072 0.96538039 0.98488559 0.97086887 0.94026007 0.87748037\n",
            " 0.83483915 0.85413324 0.77336823 0.77269273 0.88014017 0.84007431\n",
            " 0.89673225 0.85527316 0.83884995 0.74233725 0.82327113 0.78143207\n",
            " 0.6665963  0.7921557  0.64118044 0.68614371 0.66001013 0.65203074\n",
            " 0.58642236 0.56586169 0.66089673 0.65515494 0.70970193 0.66452757\n",
            " 0.69437642 0.69218104 0.63569197 0.65266402 0.63780292 0.7267162\n",
            " 0.71388162 0.74191506 0.75002111 0.77222832 0.83049059 0.8194292\n",
            " 0.8289707  0.8125475  0.78776492 0.75162543 0.78426074 0.77974331\n",
            " 0.81326522 0.8141096  0.79473106 0.83336148 0.85898843 0.83901883\n",
            " 0.85628641 0.87486279 0.88782403 0.90095415 0.92793211 0.948535\n",
            " 0.93333615 0.91746179 0.92544119 0.91771511 0.9483239  0.94064004\n",
            " 0.96635143 0.9563033  0.96491598 0.86940926 0.81562513 0.77454662\n",
            " 0.74099463 0.71278608 0.68887627 0.66848111 0.65092707 0.63561362\n",
            " 0.62202382 0.60973316 0.59841233 0.5878185  0.5777809  0.56818593\n",
            " 0.55896252 0.55006742 0.54147613 0.53317487 0.52515566 0.51741147\n",
            " 0.50993627 0.50272238 0.4957608  0.48904121]\n",
            "25 day output [[0.4825522]]\n",
            "26 day input [0.96972895 0.97614625 0.96795575 1.         0.99016297 0.99050072\n",
            " 0.96538039 0.98488559 0.97086887 0.94026007 0.87748037 0.83483915\n",
            " 0.85413324 0.77336823 0.77269273 0.88014017 0.84007431 0.89673225\n",
            " 0.85527316 0.83884995 0.74233725 0.82327113 0.78143207 0.6665963\n",
            " 0.7921557  0.64118044 0.68614371 0.66001013 0.65203074 0.58642236\n",
            " 0.56586169 0.66089673 0.65515494 0.70970193 0.66452757 0.69437642\n",
            " 0.69218104 0.63569197 0.65266402 0.63780292 0.7267162  0.71388162\n",
            " 0.74191506 0.75002111 0.77222832 0.83049059 0.8194292  0.8289707\n",
            " 0.8125475  0.78776492 0.75162543 0.78426074 0.77974331 0.81326522\n",
            " 0.8141096  0.79473106 0.83336148 0.85898843 0.83901883 0.85628641\n",
            " 0.87486279 0.88782403 0.90095415 0.92793211 0.948535   0.93333615\n",
            " 0.91746179 0.92544119 0.91771511 0.9483239  0.94064004 0.96635143\n",
            " 0.9563033  0.96491598 0.86940926 0.81562513 0.77454662 0.74099463\n",
            " 0.71278608 0.68887627 0.66848111 0.65092707 0.63561362 0.62202382\n",
            " 0.60973316 0.59841233 0.5878185  0.5777809  0.56818593 0.55896252\n",
            " 0.55006742 0.54147613 0.53317487 0.52515566 0.51741147 0.50993627\n",
            " 0.50272238 0.4957608  0.48904121 0.4825522 ]\n",
            "26 day output [[0.4762816]]\n",
            "27 day input [0.97614625 0.96795575 1.         0.99016297 0.99050072 0.96538039\n",
            " 0.98488559 0.97086887 0.94026007 0.87748037 0.83483915 0.85413324\n",
            " 0.77336823 0.77269273 0.88014017 0.84007431 0.89673225 0.85527316\n",
            " 0.83884995 0.74233725 0.82327113 0.78143207 0.6665963  0.7921557\n",
            " 0.64118044 0.68614371 0.66001013 0.65203074 0.58642236 0.56586169\n",
            " 0.66089673 0.65515494 0.70970193 0.66452757 0.69437642 0.69218104\n",
            " 0.63569197 0.65266402 0.63780292 0.7267162  0.71388162 0.74191506\n",
            " 0.75002111 0.77222832 0.83049059 0.8194292  0.8289707  0.8125475\n",
            " 0.78776492 0.75162543 0.78426074 0.77974331 0.81326522 0.8141096\n",
            " 0.79473106 0.83336148 0.85898843 0.83901883 0.85628641 0.87486279\n",
            " 0.88782403 0.90095415 0.92793211 0.948535   0.93333615 0.91746179\n",
            " 0.92544119 0.91771511 0.9483239  0.94064004 0.96635143 0.9563033\n",
            " 0.96491598 0.86940926 0.81562513 0.77454662 0.74099463 0.71278608\n",
            " 0.68887627 0.66848111 0.65092707 0.63561362 0.62202382 0.60973316\n",
            " 0.59841233 0.5878185  0.5777809  0.56818593 0.55896252 0.55006742\n",
            " 0.54147613 0.53317487 0.52515566 0.51741147 0.50993627 0.50272238\n",
            " 0.4957608  0.48904121 0.4825522  0.47628161]\n",
            "27 day output [[0.47021687]]\n",
            "28 day input [0.96795575 1.         0.99016297 0.99050072 0.96538039 0.98488559\n",
            " 0.97086887 0.94026007 0.87748037 0.83483915 0.85413324 0.77336823\n",
            " 0.77269273 0.88014017 0.84007431 0.89673225 0.85527316 0.83884995\n",
            " 0.74233725 0.82327113 0.78143207 0.6665963  0.7921557  0.64118044\n",
            " 0.68614371 0.66001013 0.65203074 0.58642236 0.56586169 0.66089673\n",
            " 0.65515494 0.70970193 0.66452757 0.69437642 0.69218104 0.63569197\n",
            " 0.65266402 0.63780292 0.7267162  0.71388162 0.74191506 0.75002111\n",
            " 0.77222832 0.83049059 0.8194292  0.8289707  0.8125475  0.78776492\n",
            " 0.75162543 0.78426074 0.77974331 0.81326522 0.8141096  0.79473106\n",
            " 0.83336148 0.85898843 0.83901883 0.85628641 0.87486279 0.88782403\n",
            " 0.90095415 0.92793211 0.948535   0.93333615 0.91746179 0.92544119\n",
            " 0.91771511 0.9483239  0.94064004 0.96635143 0.9563033  0.96491598\n",
            " 0.86940926 0.81562513 0.77454662 0.74099463 0.71278608 0.68887627\n",
            " 0.66848111 0.65092707 0.63561362 0.62202382 0.60973316 0.59841233\n",
            " 0.5878185  0.5777809  0.56818593 0.55896252 0.55006742 0.54147613\n",
            " 0.53317487 0.52515566 0.51741147 0.50993627 0.50272238 0.4957608\n",
            " 0.48904121 0.4825522  0.47628161 0.47021687]\n",
            "28 day output [[0.4643457]]\n",
            "29 day input [1.         0.99016297 0.99050072 0.96538039 0.98488559 0.97086887\n",
            " 0.94026007 0.87748037 0.83483915 0.85413324 0.77336823 0.77269273\n",
            " 0.88014017 0.84007431 0.89673225 0.85527316 0.83884995 0.74233725\n",
            " 0.82327113 0.78143207 0.6665963  0.7921557  0.64118044 0.68614371\n",
            " 0.66001013 0.65203074 0.58642236 0.56586169 0.66089673 0.65515494\n",
            " 0.70970193 0.66452757 0.69437642 0.69218104 0.63569197 0.65266402\n",
            " 0.63780292 0.7267162  0.71388162 0.74191506 0.75002111 0.77222832\n",
            " 0.83049059 0.8194292  0.8289707  0.8125475  0.78776492 0.75162543\n",
            " 0.78426074 0.77974331 0.81326522 0.8141096  0.79473106 0.83336148\n",
            " 0.85898843 0.83901883 0.85628641 0.87486279 0.88782403 0.90095415\n",
            " 0.92793211 0.948535   0.93333615 0.91746179 0.92544119 0.91771511\n",
            " 0.9483239  0.94064004 0.96635143 0.9563033  0.96491598 0.86940926\n",
            " 0.81562513 0.77454662 0.74099463 0.71278608 0.68887627 0.66848111\n",
            " 0.65092707 0.63561362 0.62202382 0.60973316 0.59841233 0.5878185\n",
            " 0.5777809  0.56818593 0.55896252 0.55006742 0.54147613 0.53317487\n",
            " 0.52515566 0.51741147 0.50993627 0.50272238 0.4957608  0.48904121\n",
            " 0.4825522  0.47628161 0.47021687 0.46434569]\n",
            "29 day output [[0.45865586]]\n",
            "[[0.8694092631340027], [0.8156251311302185], [0.7745466232299805], [0.7409946322441101], [0.712786078453064], [0.6888762712478638], [0.6684811115264893], [0.6509270668029785], [0.6356136202812195], [0.6220238208770752], [0.6097331643104553], [0.5984123349189758], [0.5878185033798218], [0.5777809023857117], [0.5681859254837036], [0.5589625239372253], [0.5500674247741699], [0.5414761304855347], [0.5331748723983765], [0.5251556634902954], [0.517411470413208], [0.5099362730979919], [0.5027223825454712], [0.49576079845428467], [0.48904120922088623], [0.4825522005558014], [0.47628161311149597], [0.47021687030792236], [0.46434569358825684], [0.45865586400032043]]\n"
          ]
        }
      ],
      "source": [
        "from numpy import array\n",
        "\n",
        "lst_output=[]\n",
        "n_steps=100\n",
        "i=0\n",
        "while(i<30):\n",
        "\n",
        "    if(len(temp_input)>100):\n",
        "        #print(temp_input)\n",
        "        x_input=np.array(temp_input[1:])\n",
        "        print(\"{} day input {}\".format(i,x_input))\n",
        "        x_input=x_input.reshape(1,-1)\n",
        "        x_input = x_input.reshape((1, n_steps, 1))\n",
        "        #print(x_input)\n",
        "        yhat = model.predict(x_input, verbose=0)\n",
        "        print(\"{} day output {}\".format(i,yhat))\n",
        "        temp_input.extend(yhat[0].tolist())\n",
        "        temp_input=temp_input[1:]\n",
        "        #print(temp_input)\n",
        "        lst_output.extend(yhat.tolist())\n",
        "        i=i+1\n",
        "    else:\n",
        "        x_input = x_input.reshape((1, n_steps,1))\n",
        "        yhat = model.predict(x_input, verbose=0)\n",
        "        print(yhat[0])\n",
        "        temp_input.extend(yhat[0].tolist())\n",
        "        print(len(temp_input))\n",
        "        lst_output.extend(yhat.tolist())\n",
        "        i=i+1\n",
        "\n",
        "\n",
        "print(lst_output)"
      ]
    },
    {
      "cell_type": "markdown",
      "source": [],
      "metadata": {
        "id": "-Nng36n_whi8"
      }
    },
    {
      "cell_type": "code",
      "source": [],
      "metadata": {
        "id": "uymaIG8cuyja"
      },
      "execution_count": null,
      "outputs": []
    }
  ],
  "metadata": {
    "colab": {
      "provenance": [],
      "authorship_tag": "ABX9TyMEg64eOlgeeG4HKwAkO1NE",
      "include_colab_link": true
    },
    "kernelspec": {
      "display_name": "Python 3",
      "name": "python3"
    },
    "language_info": {
      "name": "python"
    }
  },
  "nbformat": 4,
  "nbformat_minor": 0
}