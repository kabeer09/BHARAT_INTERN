{
  "cells": [
    {
      "cell_type": "markdown",
      "metadata": {
        "id": "view-in-github",
        "colab_type": "text"
      },
      "source": [
        "<a href=\"https://colab.research.google.com/github/kabeer09/BHARAT_INTERN/blob/main/stock_aaple.ipynb\" target=\"_parent\"><img src=\"https://colab.research.google.com/assets/colab-badge.svg\" alt=\"Open In Colab\"/></a>"
      ]
    },
    {
      "cell_type": "code",
      "execution_count": null,
      "metadata": {
        "id": "j07rPID0KImE"
      },
      "outputs": [],
      "source": [
        "import pandas as pd\n",
        "import numpy as np"
      ]
    },
    {
      "cell_type": "code",
      "source": [
        "from google.colab import drive\n",
        "drive.mount('/content/drive')"
      ],
      "metadata": {
        "colab": {
          "base_uri": "https://localhost:8080/"
        },
        "id": "74CrnVLudfyk",
        "outputId": "9d29dbf4-ff01-4602-e09c-ba0eabea35b4"
      },
      "execution_count": null,
      "outputs": [
        {
          "output_type": "stream",
          "name": "stdout",
          "text": [
            "Drive already mounted at /content/drive; to attempt to forcibly remount, call drive.mount(\"/content/drive\", force_remount=True).\n"
          ]
        }
      ]
    },
    {
      "cell_type": "code",
      "execution_count": null,
      "metadata": {
        "colab": {
          "base_uri": "https://localhost:8080/",
          "height": 423
        },
        "id": "WgyLLAMcedyf",
        "outputId": "65e47b1e-ee95-4fbf-b4dc-d549291aa7dc"
      },
      "outputs": [
        {
          "output_type": "execute_result",
          "data": {
            "text/plain": [
              "      Unnamed: 0 symbol                       date    close     high  \\\n",
              "0              0   AAPL  2015-05-27 00:00:00+00:00  132.045  132.260   \n",
              "1              1   AAPL  2015-05-28 00:00:00+00:00  131.780  131.950   \n",
              "2              2   AAPL  2015-05-29 00:00:00+00:00  130.280  131.450   \n",
              "3              3   AAPL  2015-06-01 00:00:00+00:00  130.535  131.390   \n",
              "4              4   AAPL  2015-06-02 00:00:00+00:00  129.960  130.655   \n",
              "...          ...    ...                        ...      ...      ...   \n",
              "1253        1253   AAPL  2020-05-18 00:00:00+00:00  314.960  316.500   \n",
              "1254        1254   AAPL  2020-05-19 00:00:00+00:00  313.140  318.520   \n",
              "1255        1255   AAPL  2020-05-20 00:00:00+00:00  319.230  319.520   \n",
              "1256        1256   AAPL  2020-05-21 00:00:00+00:00  316.850  320.890   \n",
              "1257        1257   AAPL  2020-05-22 00:00:00+00:00  318.890  319.230   \n",
              "\n",
              "           low    open    volume    adjClose     adjHigh      adjLow  \\\n",
              "0     130.0500  130.34  45833246  121.682558  121.880685  119.844118   \n",
              "1     131.1000  131.86  30733309  121.438354  121.595013  120.811718   \n",
              "2     129.9000  131.23  50884452  120.056069  121.134251  119.705890   \n",
              "3     130.0500  131.20  32112797  120.291057  121.078960  119.844118   \n",
              "4     129.3200  129.86  33667627  119.761181  120.401640  119.171406   \n",
              "...        ...     ...       ...         ...         ...         ...   \n",
              "1253  310.3241  313.17  33843125  314.960000  316.500000  310.324100   \n",
              "1254  313.0100  315.03  25432385  313.140000  318.520000  313.010000   \n",
              "1255  316.2000  316.68  27876215  319.230000  319.520000  316.200000   \n",
              "1256  315.8700  318.66  25672211  316.850000  320.890000  315.870000   \n",
              "1257  315.3500  315.77  20450754  318.890000  319.230000  315.350000   \n",
              "\n",
              "         adjOpen  adjVolume  divCash  splitFactor  \n",
              "0     120.111360   45833246      0.0          1.0  \n",
              "1     121.512076   30733309      0.0          1.0  \n",
              "2     120.931516   50884452      0.0          1.0  \n",
              "3     120.903870   32112797      0.0          1.0  \n",
              "4     119.669029   33667627      0.0          1.0  \n",
              "...          ...        ...      ...          ...  \n",
              "1253  313.170000   33843125      0.0          1.0  \n",
              "1254  315.030000   25432385      0.0          1.0  \n",
              "1255  316.680000   27876215      0.0          1.0  \n",
              "1256  318.660000   25672211      0.0          1.0  \n",
              "1257  315.770000   20450754      0.0          1.0  \n",
              "\n",
              "[1258 rows x 15 columns]"
            ],
            "text/html": [
              "\n",
              "  <div id=\"df-49a8fa3b-64f8-4178-b50c-7defa0077c4e\" class=\"colab-df-container\">\n",
              "    <div>\n",
              "<style scoped>\n",
              "    .dataframe tbody tr th:only-of-type {\n",
              "        vertical-align: middle;\n",
              "    }\n",
              "\n",
              "    .dataframe tbody tr th {\n",
              "        vertical-align: top;\n",
              "    }\n",
              "\n",
              "    .dataframe thead th {\n",
              "        text-align: right;\n",
              "    }\n",
              "</style>\n",
              "<table border=\"1\" class=\"dataframe\">\n",
              "  <thead>\n",
              "    <tr style=\"text-align: right;\">\n",
              "      <th></th>\n",
              "      <th>Unnamed: 0</th>\n",
              "      <th>symbol</th>\n",
              "      <th>date</th>\n",
              "      <th>close</th>\n",
              "      <th>high</th>\n",
              "      <th>low</th>\n",
              "      <th>open</th>\n",
              "      <th>volume</th>\n",
              "      <th>adjClose</th>\n",
              "      <th>adjHigh</th>\n",
              "      <th>adjLow</th>\n",
              "      <th>adjOpen</th>\n",
              "      <th>adjVolume</th>\n",
              "      <th>divCash</th>\n",
              "      <th>splitFactor</th>\n",
              "    </tr>\n",
              "  </thead>\n",
              "  <tbody>\n",
              "    <tr>\n",
              "      <th>0</th>\n",
              "      <td>0</td>\n",
              "      <td>AAPL</td>\n",
              "      <td>2015-05-27 00:00:00+00:00</td>\n",
              "      <td>132.045</td>\n",
              "      <td>132.260</td>\n",
              "      <td>130.0500</td>\n",
              "      <td>130.34</td>\n",
              "      <td>45833246</td>\n",
              "      <td>121.682558</td>\n",
              "      <td>121.880685</td>\n",
              "      <td>119.844118</td>\n",
              "      <td>120.111360</td>\n",
              "      <td>45833246</td>\n",
              "      <td>0.0</td>\n",
              "      <td>1.0</td>\n",
              "    </tr>\n",
              "    <tr>\n",
              "      <th>1</th>\n",
              "      <td>1</td>\n",
              "      <td>AAPL</td>\n",
              "      <td>2015-05-28 00:00:00+00:00</td>\n",
              "      <td>131.780</td>\n",
              "      <td>131.950</td>\n",
              "      <td>131.1000</td>\n",
              "      <td>131.86</td>\n",
              "      <td>30733309</td>\n",
              "      <td>121.438354</td>\n",
              "      <td>121.595013</td>\n",
              "      <td>120.811718</td>\n",
              "      <td>121.512076</td>\n",
              "      <td>30733309</td>\n",
              "      <td>0.0</td>\n",
              "      <td>1.0</td>\n",
              "    </tr>\n",
              "    <tr>\n",
              "      <th>2</th>\n",
              "      <td>2</td>\n",
              "      <td>AAPL</td>\n",
              "      <td>2015-05-29 00:00:00+00:00</td>\n",
              "      <td>130.280</td>\n",
              "      <td>131.450</td>\n",
              "      <td>129.9000</td>\n",
              "      <td>131.23</td>\n",
              "      <td>50884452</td>\n",
              "      <td>120.056069</td>\n",
              "      <td>121.134251</td>\n",
              "      <td>119.705890</td>\n",
              "      <td>120.931516</td>\n",
              "      <td>50884452</td>\n",
              "      <td>0.0</td>\n",
              "      <td>1.0</td>\n",
              "    </tr>\n",
              "    <tr>\n",
              "      <th>3</th>\n",
              "      <td>3</td>\n",
              "      <td>AAPL</td>\n",
              "      <td>2015-06-01 00:00:00+00:00</td>\n",
              "      <td>130.535</td>\n",
              "      <td>131.390</td>\n",
              "      <td>130.0500</td>\n",
              "      <td>131.20</td>\n",
              "      <td>32112797</td>\n",
              "      <td>120.291057</td>\n",
              "      <td>121.078960</td>\n",
              "      <td>119.844118</td>\n",
              "      <td>120.903870</td>\n",
              "      <td>32112797</td>\n",
              "      <td>0.0</td>\n",
              "      <td>1.0</td>\n",
              "    </tr>\n",
              "    <tr>\n",
              "      <th>4</th>\n",
              "      <td>4</td>\n",
              "      <td>AAPL</td>\n",
              "      <td>2015-06-02 00:00:00+00:00</td>\n",
              "      <td>129.960</td>\n",
              "      <td>130.655</td>\n",
              "      <td>129.3200</td>\n",
              "      <td>129.86</td>\n",
              "      <td>33667627</td>\n",
              "      <td>119.761181</td>\n",
              "      <td>120.401640</td>\n",
              "      <td>119.171406</td>\n",
              "      <td>119.669029</td>\n",
              "      <td>33667627</td>\n",
              "      <td>0.0</td>\n",
              "      <td>1.0</td>\n",
              "    </tr>\n",
              "    <tr>\n",
              "      <th>...</th>\n",
              "      <td>...</td>\n",
              "      <td>...</td>\n",
              "      <td>...</td>\n",
              "      <td>...</td>\n",
              "      <td>...</td>\n",
              "      <td>...</td>\n",
              "      <td>...</td>\n",
              "      <td>...</td>\n",
              "      <td>...</td>\n",
              "      <td>...</td>\n",
              "      <td>...</td>\n",
              "      <td>...</td>\n",
              "      <td>...</td>\n",
              "      <td>...</td>\n",
              "      <td>...</td>\n",
              "    </tr>\n",
              "    <tr>\n",
              "      <th>1253</th>\n",
              "      <td>1253</td>\n",
              "      <td>AAPL</td>\n",
              "      <td>2020-05-18 00:00:00+00:00</td>\n",
              "      <td>314.960</td>\n",
              "      <td>316.500</td>\n",
              "      <td>310.3241</td>\n",
              "      <td>313.17</td>\n",
              "      <td>33843125</td>\n",
              "      <td>314.960000</td>\n",
              "      <td>316.500000</td>\n",
              "      <td>310.324100</td>\n",
              "      <td>313.170000</td>\n",
              "      <td>33843125</td>\n",
              "      <td>0.0</td>\n",
              "      <td>1.0</td>\n",
              "    </tr>\n",
              "    <tr>\n",
              "      <th>1254</th>\n",
              "      <td>1254</td>\n",
              "      <td>AAPL</td>\n",
              "      <td>2020-05-19 00:00:00+00:00</td>\n",
              "      <td>313.140</td>\n",
              "      <td>318.520</td>\n",
              "      <td>313.0100</td>\n",
              "      <td>315.03</td>\n",
              "      <td>25432385</td>\n",
              "      <td>313.140000</td>\n",
              "      <td>318.520000</td>\n",
              "      <td>313.010000</td>\n",
              "      <td>315.030000</td>\n",
              "      <td>25432385</td>\n",
              "      <td>0.0</td>\n",
              "      <td>1.0</td>\n",
              "    </tr>\n",
              "    <tr>\n",
              "      <th>1255</th>\n",
              "      <td>1255</td>\n",
              "      <td>AAPL</td>\n",
              "      <td>2020-05-20 00:00:00+00:00</td>\n",
              "      <td>319.230</td>\n",
              "      <td>319.520</td>\n",
              "      <td>316.2000</td>\n",
              "      <td>316.68</td>\n",
              "      <td>27876215</td>\n",
              "      <td>319.230000</td>\n",
              "      <td>319.520000</td>\n",
              "      <td>316.200000</td>\n",
              "      <td>316.680000</td>\n",
              "      <td>27876215</td>\n",
              "      <td>0.0</td>\n",
              "      <td>1.0</td>\n",
              "    </tr>\n",
              "    <tr>\n",
              "      <th>1256</th>\n",
              "      <td>1256</td>\n",
              "      <td>AAPL</td>\n",
              "      <td>2020-05-21 00:00:00+00:00</td>\n",
              "      <td>316.850</td>\n",
              "      <td>320.890</td>\n",
              "      <td>315.8700</td>\n",
              "      <td>318.66</td>\n",
              "      <td>25672211</td>\n",
              "      <td>316.850000</td>\n",
              "      <td>320.890000</td>\n",
              "      <td>315.870000</td>\n",
              "      <td>318.660000</td>\n",
              "      <td>25672211</td>\n",
              "      <td>0.0</td>\n",
              "      <td>1.0</td>\n",
              "    </tr>\n",
              "    <tr>\n",
              "      <th>1257</th>\n",
              "      <td>1257</td>\n",
              "      <td>AAPL</td>\n",
              "      <td>2020-05-22 00:00:00+00:00</td>\n",
              "      <td>318.890</td>\n",
              "      <td>319.230</td>\n",
              "      <td>315.3500</td>\n",
              "      <td>315.77</td>\n",
              "      <td>20450754</td>\n",
              "      <td>318.890000</td>\n",
              "      <td>319.230000</td>\n",
              "      <td>315.350000</td>\n",
              "      <td>315.770000</td>\n",
              "      <td>20450754</td>\n",
              "      <td>0.0</td>\n",
              "      <td>1.0</td>\n",
              "    </tr>\n",
              "  </tbody>\n",
              "</table>\n",
              "<p>1258 rows × 15 columns</p>\n",
              "</div>\n",
              "    <div class=\"colab-df-buttons\">\n",
              "\n",
              "  <div class=\"colab-df-container\">\n",
              "    <button class=\"colab-df-convert\" onclick=\"convertToInteractive('df-49a8fa3b-64f8-4178-b50c-7defa0077c4e')\"\n",
              "            title=\"Convert this dataframe to an interactive table.\"\n",
              "            style=\"display:none;\">\n",
              "\n",
              "  <svg xmlns=\"http://www.w3.org/2000/svg\" height=\"24px\" viewBox=\"0 -960 960 960\">\n",
              "    <path d=\"M120-120v-720h720v720H120Zm60-500h600v-160H180v160Zm220 220h160v-160H400v160Zm0 220h160v-160H400v160ZM180-400h160v-160H180v160Zm440 0h160v-160H620v160ZM180-180h160v-160H180v160Zm440 0h160v-160H620v160Z\"/>\n",
              "  </svg>\n",
              "    </button>\n",
              "\n",
              "  <style>\n",
              "    .colab-df-container {\n",
              "      display:flex;\n",
              "      gap: 12px;\n",
              "    }\n",
              "\n",
              "    .colab-df-convert {\n",
              "      background-color: #E8F0FE;\n",
              "      border: none;\n",
              "      border-radius: 50%;\n",
              "      cursor: pointer;\n",
              "      display: none;\n",
              "      fill: #1967D2;\n",
              "      height: 32px;\n",
              "      padding: 0 0 0 0;\n",
              "      width: 32px;\n",
              "    }\n",
              "\n",
              "    .colab-df-convert:hover {\n",
              "      background-color: #E2EBFA;\n",
              "      box-shadow: 0px 1px 2px rgba(60, 64, 67, 0.3), 0px 1px 3px 1px rgba(60, 64, 67, 0.15);\n",
              "      fill: #174EA6;\n",
              "    }\n",
              "\n",
              "    .colab-df-buttons div {\n",
              "      margin-bottom: 4px;\n",
              "    }\n",
              "\n",
              "    [theme=dark] .colab-df-convert {\n",
              "      background-color: #3B4455;\n",
              "      fill: #D2E3FC;\n",
              "    }\n",
              "\n",
              "    [theme=dark] .colab-df-convert:hover {\n",
              "      background-color: #434B5C;\n",
              "      box-shadow: 0px 1px 3px 1px rgba(0, 0, 0, 0.15);\n",
              "      filter: drop-shadow(0px 1px 2px rgba(0, 0, 0, 0.3));\n",
              "      fill: #FFFFFF;\n",
              "    }\n",
              "  </style>\n",
              "\n",
              "    <script>\n",
              "      const buttonEl =\n",
              "        document.querySelector('#df-49a8fa3b-64f8-4178-b50c-7defa0077c4e button.colab-df-convert');\n",
              "      buttonEl.style.display =\n",
              "        google.colab.kernel.accessAllowed ? 'block' : 'none';\n",
              "\n",
              "      async function convertToInteractive(key) {\n",
              "        const element = document.querySelector('#df-49a8fa3b-64f8-4178-b50c-7defa0077c4e');\n",
              "        const dataTable =\n",
              "          await google.colab.kernel.invokeFunction('convertToInteractive',\n",
              "                                                    [key], {});\n",
              "        if (!dataTable) return;\n",
              "\n",
              "        const docLinkHtml = 'Like what you see? Visit the ' +\n",
              "          '<a target=\"_blank\" href=https://colab.research.google.com/notebooks/data_table.ipynb>data table notebook</a>'\n",
              "          + ' to learn more about interactive tables.';\n",
              "        element.innerHTML = '';\n",
              "        dataTable['output_type'] = 'display_data';\n",
              "        await google.colab.output.renderOutput(dataTable, element);\n",
              "        const docLink = document.createElement('div');\n",
              "        docLink.innerHTML = docLinkHtml;\n",
              "        element.appendChild(docLink);\n",
              "      }\n",
              "    </script>\n",
              "  </div>\n",
              "\n",
              "\n",
              "<div id=\"df-9b1ace30-dbb4-4dbd-853f-07fe017b6e59\">\n",
              "  <button class=\"colab-df-quickchart\" onclick=\"quickchart('df-9b1ace30-dbb4-4dbd-853f-07fe017b6e59')\"\n",
              "            title=\"Suggest charts.\"\n",
              "            style=\"display:none;\">\n",
              "\n",
              "<svg xmlns=\"http://www.w3.org/2000/svg\" height=\"24px\"viewBox=\"0 0 24 24\"\n",
              "     width=\"24px\">\n",
              "    <g>\n",
              "        <path d=\"M19 3H5c-1.1 0-2 .9-2 2v14c0 1.1.9 2 2 2h14c1.1 0 2-.9 2-2V5c0-1.1-.9-2-2-2zM9 17H7v-7h2v7zm4 0h-2V7h2v10zm4 0h-2v-4h2v4z\"/>\n",
              "    </g>\n",
              "</svg>\n",
              "  </button>\n",
              "\n",
              "<style>\n",
              "  .colab-df-quickchart {\n",
              "      --bg-color: #E8F0FE;\n",
              "      --fill-color: #1967D2;\n",
              "      --hover-bg-color: #E2EBFA;\n",
              "      --hover-fill-color: #174EA6;\n",
              "      --disabled-fill-color: #AAA;\n",
              "      --disabled-bg-color: #DDD;\n",
              "  }\n",
              "\n",
              "  [theme=dark] .colab-df-quickchart {\n",
              "      --bg-color: #3B4455;\n",
              "      --fill-color: #D2E3FC;\n",
              "      --hover-bg-color: #434B5C;\n",
              "      --hover-fill-color: #FFFFFF;\n",
              "      --disabled-bg-color: #3B4455;\n",
              "      --disabled-fill-color: #666;\n",
              "  }\n",
              "\n",
              "  .colab-df-quickchart {\n",
              "    background-color: var(--bg-color);\n",
              "    border: none;\n",
              "    border-radius: 50%;\n",
              "    cursor: pointer;\n",
              "    display: none;\n",
              "    fill: var(--fill-color);\n",
              "    height: 32px;\n",
              "    padding: 0;\n",
              "    width: 32px;\n",
              "  }\n",
              "\n",
              "  .colab-df-quickchart:hover {\n",
              "    background-color: var(--hover-bg-color);\n",
              "    box-shadow: 0 1px 2px rgba(60, 64, 67, 0.3), 0 1px 3px 1px rgba(60, 64, 67, 0.15);\n",
              "    fill: var(--button-hover-fill-color);\n",
              "  }\n",
              "\n",
              "  .colab-df-quickchart-complete:disabled,\n",
              "  .colab-df-quickchart-complete:disabled:hover {\n",
              "    background-color: var(--disabled-bg-color);\n",
              "    fill: var(--disabled-fill-color);\n",
              "    box-shadow: none;\n",
              "  }\n",
              "\n",
              "  .colab-df-spinner {\n",
              "    border: 2px solid var(--fill-color);\n",
              "    border-color: transparent;\n",
              "    border-bottom-color: var(--fill-color);\n",
              "    animation:\n",
              "      spin 1s steps(1) infinite;\n",
              "  }\n",
              "\n",
              "  @keyframes spin {\n",
              "    0% {\n",
              "      border-color: transparent;\n",
              "      border-bottom-color: var(--fill-color);\n",
              "      border-left-color: var(--fill-color);\n",
              "    }\n",
              "    20% {\n",
              "      border-color: transparent;\n",
              "      border-left-color: var(--fill-color);\n",
              "      border-top-color: var(--fill-color);\n",
              "    }\n",
              "    30% {\n",
              "      border-color: transparent;\n",
              "      border-left-color: var(--fill-color);\n",
              "      border-top-color: var(--fill-color);\n",
              "      border-right-color: var(--fill-color);\n",
              "    }\n",
              "    40% {\n",
              "      border-color: transparent;\n",
              "      border-right-color: var(--fill-color);\n",
              "      border-top-color: var(--fill-color);\n",
              "    }\n",
              "    60% {\n",
              "      border-color: transparent;\n",
              "      border-right-color: var(--fill-color);\n",
              "    }\n",
              "    80% {\n",
              "      border-color: transparent;\n",
              "      border-right-color: var(--fill-color);\n",
              "      border-bottom-color: var(--fill-color);\n",
              "    }\n",
              "    90% {\n",
              "      border-color: transparent;\n",
              "      border-bottom-color: var(--fill-color);\n",
              "    }\n",
              "  }\n",
              "</style>\n",
              "\n",
              "  <script>\n",
              "    async function quickchart(key) {\n",
              "      const quickchartButtonEl =\n",
              "        document.querySelector('#' + key + ' button');\n",
              "      quickchartButtonEl.disabled = true;  // To prevent multiple clicks.\n",
              "      quickchartButtonEl.classList.add('colab-df-spinner');\n",
              "      try {\n",
              "        const charts = await google.colab.kernel.invokeFunction(\n",
              "            'suggestCharts', [key], {});\n",
              "      } catch (error) {\n",
              "        console.error('Error during call to suggestCharts:', error);\n",
              "      }\n",
              "      quickchartButtonEl.classList.remove('colab-df-spinner');\n",
              "      quickchartButtonEl.classList.add('colab-df-quickchart-complete');\n",
              "    }\n",
              "    (() => {\n",
              "      let quickchartButtonEl =\n",
              "        document.querySelector('#df-9b1ace30-dbb4-4dbd-853f-07fe017b6e59 button');\n",
              "      quickchartButtonEl.style.display =\n",
              "        google.colab.kernel.accessAllowed ? 'block' : 'none';\n",
              "    })();\n",
              "  </script>\n",
              "</div>\n",
              "    </div>\n",
              "  </div>\n"
            ]
          },
          "metadata": {},
          "execution_count": 7
        }
      ],
      "source": [
        "df = pd.read_csv('/content/AAPL.csv')\n",
        "df"
      ]
    },
    {
      "cell_type": "code",
      "execution_count": null,
      "metadata": {
        "colab": {
          "base_uri": "https://localhost:8080/"
        },
        "id": "LY2P0aVOed0u",
        "outputId": "1acd1b5b-7e12-4983-8678-db45b15e1d64"
      },
      "outputs": [
        {
          "output_type": "stream",
          "name": "stdout",
          "text": [
            "<class 'pandas.core.frame.DataFrame'>\n",
            "RangeIndex: 1258 entries, 0 to 1257\n",
            "Data columns (total 15 columns):\n",
            " #   Column       Non-Null Count  Dtype  \n",
            "---  ------       --------------  -----  \n",
            " 0   Unnamed: 0   1258 non-null   int64  \n",
            " 1   symbol       1258 non-null   object \n",
            " 2   date         1258 non-null   object \n",
            " 3   close        1258 non-null   float64\n",
            " 4   high         1258 non-null   float64\n",
            " 5   low          1258 non-null   float64\n",
            " 6   open         1258 non-null   float64\n",
            " 7   volume       1258 non-null   int64  \n",
            " 8   adjClose     1258 non-null   float64\n",
            " 9   adjHigh      1258 non-null   float64\n",
            " 10  adjLow       1258 non-null   float64\n",
            " 11  adjOpen      1258 non-null   float64\n",
            " 12  adjVolume    1258 non-null   int64  \n",
            " 13  divCash      1258 non-null   float64\n",
            " 14  splitFactor  1258 non-null   float64\n",
            "dtypes: float64(10), int64(3), object(2)\n",
            "memory usage: 147.5+ KB\n"
          ]
        }
      ],
      "source": [
        "df.info()"
      ]
    },
    {
      "cell_type": "code",
      "execution_count": null,
      "metadata": {
        "colab": {
          "base_uri": "https://localhost:8080/",
          "height": 695
        },
        "id": "9gY7O-vRdwT1",
        "outputId": "2a10ace2-a529-4738-bd55-4128c4335e80"
      },
      "outputs": [
        {
          "output_type": "execute_result",
          "data": {
            "text/plain": [
              "array([[<Axes: title={'center': 'Unnamed: 0'}>,\n",
              "        <Axes: title={'center': 'close'}>,\n",
              "        <Axes: title={'center': 'high'}>,\n",
              "        <Axes: title={'center': 'low'}>],\n",
              "       [<Axes: title={'center': 'open'}>,\n",
              "        <Axes: title={'center': 'volume'}>,\n",
              "        <Axes: title={'center': 'adjClose'}>,\n",
              "        <Axes: title={'center': 'adjHigh'}>],\n",
              "       [<Axes: title={'center': 'adjLow'}>,\n",
              "        <Axes: title={'center': 'adjOpen'}>,\n",
              "        <Axes: title={'center': 'adjVolume'}>,\n",
              "        <Axes: title={'center': 'divCash'}>],\n",
              "       [<Axes: title={'center': 'splitFactor'}>, <Axes: >, <Axes: >,\n",
              "        <Axes: >]], dtype=object)"
            ]
          },
          "metadata": {},
          "execution_count": 9
        },
        {
          "output_type": "display_data",
          "data": {
            "text/plain": [
              "<Figure size 640x480 with 16 Axes>"
            ],
            "image/png": "[encoded data removed]"
          },
          "metadata": {}
        }
      ],
      "source": [
        "df.hist()"
      ]
    },
    {
      "cell_type": "code",
      "execution_count": null,
      "metadata": {
        "colab": {
          "base_uri": "https://localhost:8080/"
        },
        "id": "Dsz1yqGRed27",
        "outputId": "fe45bc69-ef28-418e-a52f-679801597eef"
      },
      "outputs": [
        {
          "output_type": "execute_result",
          "data": {
            "text/plain": [
              "(1258, 15)"
            ]
          },
          "metadata": {},
          "execution_count": 10
        }
      ],
      "source": [
        "df.shape"
      ]
    },
    {
      "cell_type": "code",
      "execution_count": null,
      "metadata": {
        "colab": {
          "base_uri": "https://localhost:8080/"
        },
        "id": "5m-mC4tFpgKD",
        "outputId": "9adbd154-a552-49d2-da63-8e7e157a7558"
      },
      "outputs": [
        {
          "output_type": "execute_result",
          "data": {
            "text/plain": [
              "Index(['Unnamed: 0', 'symbol', 'date', 'close', 'high', 'low', 'open',\n",
              "       'volume', 'adjClose', 'adjHigh', 'adjLow', 'adjOpen', 'adjVolume',\n",
              "       'divCash', 'splitFactor'],\n",
              "      dtype='object')"
            ]
          },
          "metadata": {},
          "execution_count": 11
        }
      ],
      "source": [
        "df.columns"
      ]
    },
    {
      "cell_type": "code",
      "execution_count": null,
      "metadata": {
        "colab": {
          "base_uri": "https://localhost:8080/"
        },
        "id": "qZP8SldbpgMe",
        "outputId": "308f16aa-bf04-4348-ae5a-35362a724c4e"
      },
      "outputs": [
        {
          "output_type": "execute_result",
          "data": {
            "text/plain": [
              "Unnamed: 0     0\n",
              "symbol         0\n",
              "date           0\n",
              "close          0\n",
              "high           0\n",
              "low            0\n",
              "open           0\n",
              "volume         0\n",
              "adjClose       0\n",
              "adjHigh        0\n",
              "adjLow         0\n",
              "adjOpen        0\n",
              "adjVolume      0\n",
              "divCash        0\n",
              "splitFactor    0\n",
              "dtype: int64"
            ]
          },
          "metadata": {},
          "execution_count": 12
        }
      ],
      "source": [
        "df.isnull().sum()"
      ]
    },
    {
      "cell_type": "code",
      "execution_count": null,
      "metadata": {
        "id": "-ONBHWUbed8l"
      },
      "outputs": [],
      "source": [
        "df1 = df.reset_index()['close']"
      ]
    },
    {
      "cell_type": "code",
      "execution_count": null,
      "metadata": {
        "colab": {
          "base_uri": "https://localhost:8080/"
        },
        "id": "-ZFtynAFed-w",
        "outputId": "282570d7-d997-46cb-ce24-4b52d2344f4c"
      },
      "outputs": [
        {
          "output_type": "execute_result",
          "data": {
            "text/plain": [
              "1228    273.25\n",
              "1229    287.05\n",
              "1230    284.43\n",
              "1231    286.69\n",
              "1232    282.80\n",
              "1233    276.93\n",
              "1234    268.37\n",
              "1235    276.10\n",
              "1236    275.03\n",
              "1237    282.97\n",
              "1238    283.17\n",
              "1239    278.58\n",
              "1240    287.73\n",
              "1241    293.80\n",
              "1242    289.07\n",
              "1243    293.16\n",
              "1244    297.56\n",
              "1245    300.63\n",
              "1246    303.74\n",
              "1247    310.13\n",
              "1248    315.01\n",
              "1249    311.41\n",
              "1250    307.65\n",
              "1251    309.54\n",
              "1252    307.71\n",
              "1253    314.96\n",
              "1254    313.14\n",
              "1255    319.23\n",
              "1256    316.85\n",
              "1257    318.89\n",
              "Name: close, dtype: float64"
            ]
          },
          "metadata": {},
          "execution_count": 14
        }
      ],
      "source": [
        "df1[1228:]"
      ]
    },
    {
      "cell_type": "code",
      "execution_count": null,
      "metadata": {
        "colab": {
          "base_uri": "https://localhost:8080/"
        },
        "id": "QLELTB6beeBD",
        "outputId": "0683d873-daf5-46e6-d3e1-0706abf2b352"
      },
      "outputs": [
        {
          "output_type": "execute_result",
          "data": {
            "text/plain": [
              "(1258,)"
            ]
          },
          "metadata": {},
          "execution_count": 15
        }
      ],
      "source": [
        "df1.shape"
      ]
    },
    {
      "cell_type": "code",
      "execution_count": null,
      "metadata": {
        "colab": {
          "base_uri": "https://localhost:8080/",
          "height": 447
        },
        "id": "zmCsX2pGeeD3",
        "outputId": "b244b535-8c2e-4add-8264-d305b083fe00"
      },
      "outputs": [
        {
          "output_type": "execute_result",
          "data": {
            "text/plain": [
              "[<matplotlib.lines.Line2D at 0x7bc103679600>]"
            ]
          },
          "metadata": {},
          "execution_count": 16
        },
        {
          "output_type": "display_data",
          "data": {
            "text/plain": [
              "<Figure size 640x480 with 1 Axes>"
            ],
            "image/png": "[encoded data removed]"
          },
          "metadata": {}
        }
      ],
      "source": [
        "import matplotlib.pyplot as plt\n",
        "plt.plot(df1)"
      ]
    },
    {
      "cell_type": "code",
      "execution_count": null,
      "metadata": {
        "colab": {
          "base_uri": "https://localhost:8080/"
        },
        "id": "clRq8lI8eeGN",
        "outputId": "51da2eb1-1a14-47de-b2dd-0a873bbba53c"
      },
      "outputs": [
        {
          "output_type": "stream",
          "name": "stdout",
          "text": [
            "[[0.17607447]\n",
            " [0.17495567]\n",
            " [0.16862282]\n",
            " ...\n",
            " [0.96635143]\n",
            " [0.9563033 ]\n",
            " [0.96491598]]\n"
          ]
        }
      ],
      "source": [
        "from sklearn.preprocessing import MinMaxScaler\n",
        "scaler=MinMaxScaler(feature_range=(0,1))\n",
        "df1=scaler.fit_transform(np.array(df1).reshape(-1,1))\n",
        "print(df1)"
      ]
    },
    {
      "cell_type": "code",
      "execution_count": null,
      "metadata": {
        "colab": {
          "base_uri": "https://localhost:8080/"
        },
        "id": "lHZ_0suWeeI3",
        "outputId": "9e2b4afa-ff37-4e02-cdd7-a65f8ff92344"
      },
      "outputs": [
        {
          "output_type": "execute_result",
          "data": {
            "text/plain": [
              "(1258, 1)"
            ]
          },
          "metadata": {},
          "execution_count": 18
        }
      ],
      "source": [
        "df1.shape"
      ]
    },
    {
      "cell_type": "code",
      "execution_count": null,
      "metadata": {
        "id": "WIvEJoQReeLK"
      },
      "outputs": [],
      "source": [
        "training_size=int(len(df1)*0.65)\n",
        "test_size=len(df1)-training_size\n",
        "train_data,test_data=df1[0:training_size,:],df1[training_size:len(df1),:1]"
      ]
    },
    {
      "cell_type": "code",
      "execution_count": null,
      "metadata": {
        "colab": {
          "base_uri": "https://localhost:8080/"
        },
        "id": "59WPwSreeeNa",
        "outputId": "e897807c-7a29-4b97-8751-bc9fcc77d976"
      },
      "outputs": [
        {
          "output_type": "execute_result",
          "data": {
            "text/plain": [
              "(817, 441)"
            ]
          },
          "metadata": {},
          "execution_count": 20
        }
      ],
      "source": [
        "training_size,test_size"
      ]
    },
    {
      "cell_type": "code",
      "execution_count": null,
      "metadata": {
        "colab": {
          "base_uri": "https://localhost:8080/"
        },
        "id": "ypjRg6wJeeQ4",
        "outputId": "5dfe2eca-5033-44a3-d910-74d3eafef4b1"
      },
      "outputs": [
        {
          "output_type": "execute_result",
          "data": {
            "text/plain": [
              "(817, 441)"
            ]
          },
          "metadata": {},
          "execution_count": 21
        }
      ],
      "source": [
        "len(train_data),len(test_data)"
      ]
    },
    {
      "cell_type": "code",
      "execution_count": null,
      "metadata": {
        "id": "Ff8f7GD0iOD7"
      },
      "outputs": [],
      "source": [
        "import numpy\n",
        "\n",
        "def create_dataset(dataset, time_step=1):\n",
        "    dataX,dataY=[],[]\n",
        "    for i in range(len(dataset) -time_step-1):\n",
        "      a = dataset[i:(i+time_step),0]\n",
        "      dataX.append(a)\n",
        "      dataY.append(dataset[i + time_step,0])\n",
        "    return np.array(dataX), np.array(dataY)\n",
        "\n"
      ]
    },
    {
      "cell_type": "code",
      "execution_count": null,
      "metadata": {
        "id": "gBHO_hhyiOGm"
      },
      "outputs": [],
      "source": [
        "time_step = 100\n",
        "x_train,y_train = create_dataset(train_data,time_step)\n",
        "x_test,ytest = create_dataset(test_data,time_step)"
      ]
    },
    {
      "cell_type": "code",
      "execution_count": null,
      "metadata": {
        "colab": {
          "base_uri": "https://localhost:8080/"
        },
        "id": "CftKpQ6riOJS",
        "outputId": "015b7bb0-6db0-48db-cab4-9c3cf032b5eb"
      },
      "outputs": [
        {
          "output_type": "stream",
          "name": "stdout",
          "text": [
            "[[0.17607447 0.17495567 0.16862282 ... 0.09055982 0.08388922 0.09085536]\n",
            " [0.17495567 0.16862282 0.1696994  ... 0.08388922 0.09085536 0.0873934 ]\n",
            " [0.16862282 0.1696994  0.16727181 ... 0.09085536 0.0873934  0.09030651]\n",
            " ...\n",
            " [0.34801148 0.32930845 0.32145571 ... 0.50042219 0.50413747 0.5062062 ]\n",
            " [0.32930845 0.32145571 0.32694419 ... 0.50413747 0.5062062  0.51920966]\n",
            " [0.32145571 0.32694419 0.32230009 ... 0.5062062  0.51920966 0.53719497]]\n"
          ]
        }
      ],
      "source": [
        "print(x_train)"
      ]
    },
    {
      "cell_type": "code",
      "execution_count": null,
      "metadata": {
        "colab": {
          "base_uri": "https://localhost:8080/"
        },
        "id": "YZyf-9vdiOLi",
        "outputId": "d55ddef3-3a49-4801-cdc1-b53a09d17eb7"
      },
      "outputs": [
        {
          "output_type": "stream",
          "name": "stdout",
          "text": [
            "(340, 100)\n",
            "(340,)\n"
          ]
        },
        {
          "output_type": "execute_result",
          "data": {
            "text/plain": [
              "(None, None)"
            ]
          },
          "metadata": {},
          "execution_count": 25
        }
      ],
      "source": [
        "print(x_test.shape) , print(ytest.shape)"
      ]
    },
    {
      "cell_type": "code",
      "execution_count": null,
      "metadata": {
        "colab": {
          "base_uri": "https://localhost:8080/"
        },
        "id": "QxfStuqI3Bdn",
        "outputId": "f3328349-a219-494a-d530-c49f759216c9"
      },
      "outputs": [
        {
          "output_type": "stream",
          "name": "stdout",
          "text": [
            "(716, 100)\n",
            "(716,)\n"
          ]
        },
        {
          "output_type": "execute_result",
          "data": {
            "text/plain": [
              "(None, None)"
            ]
          },
          "metadata": {},
          "execution_count": 26
        }
      ],
      "source": [
        "print(x_train.shape) , print(y_train.shape)"
      ]
    },
    {
      "cell_type": "code",
      "execution_count": null,
      "metadata": {
        "id": "GmFPHbCa3Bf4"
      },
      "outputs": [],
      "source": [
        "x_train = x_train.reshape(x_train.shape[0],x_train.shape[1],1)\n",
        "x_test =x_test.reshape(x_test.shape[0],x_test.shape[1], 1)"
      ]
    },
    {
      "cell_type": "code",
      "execution_count": null,
      "metadata": {
        "id": "G1SFEDmA3BiF"
      },
      "outputs": [],
      "source": [
        "from tensorflow.keras.models import Sequential\n",
        "from tensorflow.keras.layers import Dense\n",
        "from tensorflow.keras.layers import LSTM"
      ]
    },
    {
      "cell_type": "code",
      "execution_count": null,
      "metadata": {
        "id": "B3ogHSnS3Bkx"
      },
      "outputs": [],
      "source": [
        "from scipy.optimize import optimize\n",
        "model = Sequential()\n",
        "model.add(LSTM(50,return_sequences=True,input_shape=(100,1)))\n",
        "model.add(LSTM(50,return_sequences=True))\n",
        "model.add(LSTM(50))\n",
        "model.add(Dense(1))\n",
        "model.compile(loss='mean_squared_error',optimizer='adam')"
      ]
    },
    {
      "cell_type": "code",
      "execution_count": null,
      "metadata": {
        "colab": {
          "base_uri": "https://localhost:8080/"
        },
        "id": "225u3OY13BnK",
        "outputId": "31a4ad20-7a7c-4c7f-d34a-1c649936fafd"
      },
      "outputs": [
        {
          "output_type": "stream",
          "name": "stdout",
          "text": [
            "Model: \"sequential\"\n",
            "_________________________________________________________________\n",
            " Layer (type)                Output Shape              Param #   \n",
            "=================================================================\n",
            " lstm (LSTM)                 (None, 100, 50)           10400     \n",
            "                                                                 \n",
            " lstm_1 (LSTM)               (None, 100, 50)           20200     \n",
            "                                                                 \n",
            " lstm_2 (LSTM)               (None, 50)                20200     \n",
            "                                                                 \n",
            " dense (Dense)               (None, 1)                 51        \n",
            "                                                                 \n",
            "=================================================================\n",
            "Total params: 50,851\n",
            "Trainable params: 50,851\n",
            "Non-trainable params: 0\n",
            "_________________________________________________________________\n"
          ]
        }
      ],
      "source": [
        "model.summary()"
      ]
    },
    {
      "cell_type": "code",
      "execution_count": null,
      "metadata": {
        "colab": {
          "base_uri": "https://localhost:8080/"
        },
        "id": "OpFWiHXTP4l-",
        "outputId": "9d2449a2-d8e8-4670-f8ef-131c0b0286c1"
      },
      "outputs": [
        {
          "output_type": "stream",
          "name": "stdout",
          "text": [
            "Epoch 1/100\n",
            "179/179 [==============================] - 14s 63ms/step - loss: 0.0025 - val_loss: 0.0069\n",
            "Epoch 2/100\n",
            "179/179 [==============================] - 11s 59ms/step - loss: 7.4730e-04 - val_loss: 0.0025\n",
            "Epoch 3/100\n",
            "179/179 [==============================] - 10s 58ms/step - loss: 6.1909e-04 - val_loss: 0.0048\n",
            "Epoch 4/100\n",
            "179/179 [==============================] - 10s 55ms/step - loss: 4.8226e-04 - val_loss: 0.0033\n",
            "Epoch 5/100\n",
            "179/179 [==============================] - 10s 54ms/step - loss: 5.2418e-04 - val_loss: 0.0031\n",
            "Epoch 6/100\n",
            "179/179 [==============================] - 10s 58ms/step - loss: 3.8554e-04 - val_loss: 0.0018\n",
            "Epoch 7/100\n",
            "179/179 [==============================] - 10s 59ms/step - loss: 2.7593e-04 - val_loss: 0.0039\n",
            "Epoch 8/100\n",
            "179/179 [==============================] - 10s 58ms/step - loss: 2.8430e-04 - val_loss: 9.2321e-04\n",
            "Epoch 9/100\n",
            "179/179 [==============================] - 10s 55ms/step - loss: 2.2940e-04 - val_loss: 8.9335e-04\n",
            "Epoch 10/100\n",
            "179/179 [==============================] - 11s 61ms/step - loss: 2.1997e-04 - val_loss: 8.7632e-04\n",
            "Epoch 11/100\n",
            "179/179 [==============================] - 10s 58ms/step - loss: 1.8744e-04 - val_loss: 0.0019\n",
            "Epoch 12/100\n",
            "179/179 [==============================] - 10s 58ms/step - loss: 2.0012e-04 - val_loss: 7.5268e-04\n",
            "Epoch 13/100\n",
            "179/179 [==============================] - 10s 56ms/step - loss: 1.5408e-04 - val_loss: 6.9436e-04\n",
            "Epoch 14/100\n",
            "179/179 [==============================] - 10s 53ms/step - loss: 1.5252e-04 - val_loss: 6.2374e-04\n",
            "Epoch 15/100\n",
            "179/179 [==============================] - 10s 58ms/step - loss: 1.6121e-04 - val_loss: 0.0014\n",
            "Epoch 16/100\n",
            "179/179 [==============================] - 11s 59ms/step - loss: 1.4478e-04 - val_loss: 9.6853e-04\n",
            "Epoch 17/100\n",
            "179/179 [==============================] - 10s 58ms/step - loss: 1.3376e-04 - val_loss: 7.4728e-04\n",
            "Epoch 18/100\n",
            "179/179 [==============================] - 9s 53ms/step - loss: 1.2185e-04 - val_loss: 6.9748e-04\n",
            "Epoch 19/100\n",
            "179/179 [==============================] - 10s 56ms/step - loss: 1.1001e-04 - val_loss: 8.7898e-04\n",
            "Epoch 20/100\n",
            "179/179 [==============================] - 10s 58ms/step - loss: 1.4283e-04 - val_loss: 7.8517e-04\n",
            "Epoch 21/100\n",
            "179/179 [==============================] - 10s 58ms/step - loss: 1.4612e-04 - val_loss: 8.6527e-04\n",
            "Epoch 22/100\n",
            "179/179 [==============================] - 10s 59ms/step - loss: 1.0567e-04 - val_loss: 0.0010\n",
            "Epoch 23/100\n",
            "179/179 [==============================] - 9s 51ms/step - loss: 1.1100e-04 - val_loss: 0.0015\n",
            "Epoch 24/100\n",
            "179/179 [==============================] - 10s 58ms/step - loss: 1.0526e-04 - val_loss: 0.0015\n",
            "Epoch 25/100\n",
            "179/179 [==============================] - 10s 59ms/step - loss: 1.1335e-04 - val_loss: 0.0020\n",
            "Epoch 26/100\n",
            "179/179 [==============================] - 10s 59ms/step - loss: 1.0577e-04 - val_loss: 0.0020\n",
            "Epoch 27/100\n",
            "179/179 [==============================] - 10s 58ms/step - loss: 1.1650e-04 - val_loss: 0.0056\n",
            "Epoch 28/100\n",
            "179/179 [==============================] - 9s 52ms/step - loss: 1.3596e-04 - val_loss: 0.0032\n",
            "Epoch 29/100\n",
            "179/179 [==============================] - 10s 58ms/step - loss: 9.9503e-05 - val_loss: 0.0031\n",
            "Epoch 30/100\n",
            "179/179 [==============================] - 10s 59ms/step - loss: 1.2052e-04 - val_loss: 0.0025\n",
            "Epoch 31/100\n",
            "179/179 [==============================] - 11s 59ms/step - loss: 1.0634e-04 - val_loss: 0.0023\n",
            "Epoch 32/100\n",
            "179/179 [==============================] - 10s 56ms/step - loss: 1.2623e-04 - val_loss: 0.0023\n",
            "Epoch 33/100\n",
            "179/179 [==============================] - 11s 60ms/step - loss: 9.7496e-05 - val_loss: 0.0027\n",
            "Epoch 34/100\n",
            "179/179 [==============================] - 10s 58ms/step - loss: 1.0913e-04 - val_loss: 0.0026\n",
            "Epoch 35/100\n",
            "179/179 [==============================] - 10s 58ms/step - loss: 1.0622e-04 - val_loss: 0.0028\n",
            "Epoch 36/100\n",
            "179/179 [==============================] - 10s 58ms/step - loss: 8.7609e-05 - val_loss: 0.0024\n",
            "Epoch 37/100\n",
            "179/179 [==============================] - 10s 56ms/step - loss: 1.0078e-04 - val_loss: 0.0020\n",
            "Epoch 38/100\n",
            "179/179 [==============================] - 9s 52ms/step - loss: 1.0233e-04 - val_loss: 0.0019\n",
            "Epoch 39/100\n",
            "179/179 [==============================] - 10s 58ms/step - loss: 9.5115e-05 - val_loss: 0.0029\n",
            "Epoch 40/100\n",
            "179/179 [==============================] - 11s 59ms/step - loss: 1.0174e-04 - val_loss: 0.0017\n",
            "Epoch 41/100\n",
            "179/179 [==============================] - 10s 58ms/step - loss: 9.2357e-05 - val_loss: 0.0016\n",
            "Epoch 42/100\n",
            "179/179 [==============================] - 10s 54ms/step - loss: 9.9594e-05 - val_loss: 0.0023\n",
            "Epoch 43/100\n",
            "179/179 [==============================] - 10s 55ms/step - loss: 9.6235e-05 - val_loss: 0.0017\n",
            "Epoch 44/100\n",
            "179/179 [==============================] - 10s 59ms/step - loss: 8.6290e-05 - val_loss: 0.0017\n",
            "Epoch 45/100\n",
            "179/179 [==============================] - 10s 58ms/step - loss: 9.8990e-05 - val_loss: 0.0022\n",
            "Epoch 46/100\n",
            "179/179 [==============================] - 10s 59ms/step - loss: 1.0350e-04 - val_loss: 0.0023\n",
            "Epoch 47/100\n",
            "179/179 [==============================] - 9s 52ms/step - loss: 9.4758e-05 - val_loss: 0.0017\n",
            "Epoch 48/100\n",
            "179/179 [==============================] - 10s 57ms/step - loss: 1.1758e-04 - val_loss: 0.0014\n",
            "Epoch 49/100\n",
            "179/179 [==============================] - 10s 58ms/step - loss: 9.5973e-05 - val_loss: 0.0024\n",
            "Epoch 50/100\n",
            "179/179 [==============================] - 10s 59ms/step - loss: 8.0627e-05 - val_loss: 0.0013\n",
            "Epoch 51/100\n",
            "179/179 [==============================] - 10s 58ms/step - loss: 9.9384e-05 - val_loss: 0.0021\n",
            "Epoch 52/100\n",
            "179/179 [==============================] - 9s 51ms/step - loss: 8.6039e-05 - val_loss: 0.0017\n",
            "Epoch 53/100\n",
            "179/179 [==============================] - 10s 58ms/step - loss: 1.0409e-04 - val_loss: 0.0012\n",
            "Epoch 54/100\n",
            "179/179 [==============================] - 10s 58ms/step - loss: 9.4041e-05 - val_loss: 0.0012\n",
            "Epoch 55/100\n",
            "179/179 [==============================] - 10s 59ms/step - loss: 9.0334e-05 - val_loss: 0.0011\n",
            "Epoch 56/100\n",
            "179/179 [==============================] - 12s 65ms/step - loss: 1.0303e-04 - val_loss: 0.0013\n",
            "Epoch 57/100\n",
            "179/179 [==============================] - 9s 51ms/step - loss: 8.9651e-05 - val_loss: 0.0013\n",
            "Epoch 58/100\n",
            "179/179 [==============================] - 10s 58ms/step - loss: 8.9975e-05 - val_loss: 0.0017\n",
            "Epoch 59/100\n",
            "179/179 [==============================] - 10s 58ms/step - loss: 1.0216e-04 - val_loss: 0.0014\n",
            "Epoch 60/100\n",
            "179/179 [==============================] - 10s 59ms/step - loss: 8.8637e-05 - val_loss: 0.0014\n",
            "Epoch 61/100\n",
            "179/179 [==============================] - 10s 57ms/step - loss: 9.9519e-05 - val_loss: 0.0012\n",
            "Epoch 62/100\n",
            "179/179 [==============================] - 9s 52ms/step - loss: 9.6078e-05 - val_loss: 0.0015\n",
            "Epoch 63/100\n",
            "179/179 [==============================] - 10s 58ms/step - loss: 9.8147e-05 - val_loss: 0.0018\n",
            "Epoch 64/100\n",
            "179/179 [==============================] - 10s 58ms/step - loss: 8.8850e-05 - val_loss: 0.0012\n",
            "Epoch 65/100\n",
            "179/179 [==============================] - 10s 58ms/step - loss: 8.5801e-05 - val_loss: 0.0019\n",
            "Epoch 66/100\n",
            "179/179 [==============================] - 10s 54ms/step - loss: 8.9058e-05 - val_loss: 9.6011e-04\n",
            "Epoch 67/100\n",
            "179/179 [==============================] - 10s 55ms/step - loss: 8.5817e-05 - val_loss: 0.0010\n",
            "Epoch 68/100\n",
            "179/179 [==============================] - 10s 58ms/step - loss: 1.1947e-04 - val_loss: 0.0015\n",
            "Epoch 69/100\n",
            "179/179 [==============================] - 10s 59ms/step - loss: 8.9213e-05 - val_loss: 0.0017\n",
            "Epoch 70/100\n",
            "179/179 [==============================] - 10s 58ms/step - loss: 8.3555e-05 - val_loss: 8.1845e-04\n",
            "Epoch 71/100\n",
            "179/179 [==============================] - 9s 52ms/step - loss: 8.4517e-05 - val_loss: 9.4244e-04\n",
            "Epoch 72/100\n",
            "179/179 [==============================] - 11s 59ms/step - loss: 8.6152e-05 - val_loss: 0.0017\n",
            "Epoch 73/100\n",
            "179/179 [==============================] - 11s 59ms/step - loss: 8.3778e-05 - val_loss: 0.0011\n",
            "Epoch 74/100\n",
            "179/179 [==============================] - 10s 58ms/step - loss: 8.3907e-05 - val_loss: 0.0028\n",
            "Epoch 75/100\n",
            "179/179 [==============================] - 10s 59ms/step - loss: 8.2590e-05 - val_loss: 9.4758e-04\n",
            "Epoch 76/100\n",
            "179/179 [==============================] - 9s 51ms/step - loss: 8.7519e-05 - val_loss: 0.0014\n",
            "Epoch 77/100\n",
            "179/179 [==============================] - 10s 58ms/step - loss: 8.5107e-05 - val_loss: 0.0014\n",
            "Epoch 78/100\n",
            "179/179 [==============================] - 11s 59ms/step - loss: 8.4367e-05 - val_loss: 0.0028\n",
            "Epoch 79/100\n",
            "179/179 [==============================] - 10s 58ms/step - loss: 8.5148e-05 - val_loss: 0.0015\n",
            "Epoch 80/100\n",
            "179/179 [==============================] - 12s 65ms/step - loss: 8.6011e-05 - val_loss: 8.4723e-04\n",
            "Epoch 81/100\n",
            "179/179 [==============================] - 9s 52ms/step - loss: 8.6384e-05 - val_loss: 0.0012\n",
            "Epoch 82/100\n",
            "179/179 [==============================] - 10s 58ms/step - loss: 8.2466e-05 - val_loss: 0.0011\n",
            "Epoch 83/100\n",
            "179/179 [==============================] - 10s 59ms/step - loss: 1.0728e-04 - val_loss: 0.0010\n",
            "Epoch 84/100\n",
            "179/179 [==============================] - 10s 59ms/step - loss: 8.4041e-05 - val_loss: 0.0014\n",
            "Epoch 85/100\n",
            "179/179 [==============================] - 10s 58ms/step - loss: 8.7230e-05 - val_loss: 9.0340e-04\n",
            "Epoch 86/100\n",
            "179/179 [==============================] - 9s 51ms/step - loss: 8.9383e-05 - val_loss: 9.0095e-04\n",
            "Epoch 87/100\n",
            "179/179 [==============================] - 10s 58ms/step - loss: 8.2072e-05 - val_loss: 0.0015\n",
            "Epoch 88/100\n",
            "179/179 [==============================] - 10s 58ms/step - loss: 8.1590e-05 - val_loss: 0.0011\n",
            "Epoch 89/100\n",
            "179/179 [==============================] - 10s 58ms/step - loss: 8.0261e-05 - val_loss: 0.0020\n",
            "Epoch 90/100\n",
            "179/179 [==============================] - 10s 55ms/step - loss: 8.3708e-05 - val_loss: 0.0031\n",
            "Epoch 91/100\n",
            "179/179 [==============================] - 10s 53ms/step - loss: 7.8325e-05 - val_loss: 0.0017\n",
            "Epoch 92/100\n",
            "179/179 [==============================] - 10s 58ms/step - loss: 8.9182e-05 - val_loss: 0.0018\n",
            "Epoch 93/100\n",
            "179/179 [==============================] - 11s 59ms/step - loss: 8.8630e-05 - val_loss: 0.0018\n",
            "Epoch 94/100\n",
            "179/179 [==============================] - 10s 58ms/step - loss: 8.7279e-05 - val_loss: 0.0010\n",
            "Epoch 95/100\n",
            "179/179 [==============================] - 10s 54ms/step - loss: 7.9618e-05 - val_loss: 0.0013\n",
            "Epoch 96/100\n",
            "179/179 [==============================] - 10s 56ms/step - loss: 8.2493e-05 - val_loss: 0.0010\n",
            "Epoch 97/100\n",
            "179/179 [==============================] - 11s 59ms/step - loss: 8.6302e-05 - val_loss: 0.0012\n",
            "Epoch 98/100\n",
            "179/179 [==============================] - 10s 58ms/step - loss: 9.5849e-05 - val_loss: 0.0010\n",
            "Epoch 99/100\n",
            "179/179 [==============================] - 10s 59ms/step - loss: 8.7109e-05 - val_loss: 0.0011\n",
            "Epoch 100/100\n",
            "179/179 [==============================] - 9s 51ms/step - loss: 7.6872e-05 - val_loss: 0.0012\n"
          ]
        },
        {
          "output_type": "execute_result",
          "data": {
            "text/plain": [
              "<keras.callbacks.History at 0x7bc0a024b880>"
            ]
          },
          "metadata": {},
          "execution_count": 31
        }
      ],
      "source": [
        "model.fit(x_train,y_train,validation_data=(x_test,ytest),epochs=100,batch_size=4,verbose=1)"
      ]
    },
    {
      "cell_type": "code",
      "execution_count": null,
      "metadata": {
        "id": "CHZF9bAvPBG3"
      },
      "outputs": [],
      "source": [
        "import tensorflow as tf"
      ]
    },
    {
      "cell_type": "code",
      "execution_count": null,
      "metadata": {
        "id": "tdKMYRdJPBJV",
        "colab": {
          "base_uri": "https://localhost:8080/",
          "height": 36
        },
        "outputId": "fb691a01-4d81-4e96-b32d-749a8b286e09"
      },
      "outputs": [
        {
          "output_type": "execute_result",
          "data": {
            "text/plain": [
              "'2.12.0'"
            ],
            "application/vnd.google.colaboratory.intrinsic+json": {
              "type": "string"
            }
          },
          "metadata": {},
          "execution_count": 33
        }
      ],
      "source": [
        "tf.__version__"
      ]
    },
    {
      "cell_type": "code",
      "execution_count": null,
      "metadata": {
        "id": "-ijsNJybPBMB",
        "colab": {
          "base_uri": "https://localhost:8080/"
        },
        "outputId": "14d8869b-81a8-47b9-f72b-a5fafc2203b7"
      },
      "outputs": [
        {
          "output_type": "stream",
          "name": "stdout",
          "text": [
            "23/23 [==============================] - 2s 28ms/step\n",
            "11/11 [==============================] - 0s 27ms/step\n"
          ]
        }
      ],
      "source": [
        "train_predict=model.predict(x_train)\n",
        "test_predict=model.predict(x_test)"
      ]
    },
    {
      "cell_type": "code",
      "execution_count": null,
      "metadata": {
        "id": "aBXdcjaiPBPc"
      },
      "outputs": [],
      "source": [
        "train_predict=scaler.inverse_transform(train_predict)\n",
        "test_predict=scaler.inverse_transform(test_predict)"
      ]
    },
    {
      "cell_type": "code",
      "execution_count": null,
      "metadata": {
        "id": "vdrPuhaSiOO6",
        "colab": {
          "base_uri": "https://localhost:8080/"
        },
        "outputId": "ec6317c0-4252-4240-9468-68a39ac23288"
      },
      "outputs": [
        {
          "output_type": "execute_result",
          "data": {
            "text/plain": [
              "141.78132858747006"
            ]
          },
          "metadata": {},
          "execution_count": 36
        }
      ],
      "source": [
        "import math\n",
        "from sklearn.metrics import mean_squared_error\n",
        "math.sqrt(mean_squared_error(y_train,train_predict))"
      ]
    },
    {
      "cell_type": "code",
      "execution_count": null,
      "metadata": {
        "id": "MZbWal4YR0VC",
        "colab": {
          "base_uri": "https://localhost:8080/"
        },
        "outputId": "aae80c16-95c5-4f8b-c1ab-d806bcb81433"
      },
      "outputs": [
        {
          "output_type": "execute_result",
          "data": {
            "text/plain": [
              "233.9282537304549"
            ]
          },
          "metadata": {},
          "execution_count": 37
        }
      ],
      "source": [
        "math.sqrt(mean_squared_error(ytest,test_predict))"
      ]
    },
    {
      "cell_type": "code",
      "execution_count": null,
      "metadata": {
        "id": "9U2mvD2SR0X_",
        "colab": {
          "base_uri": "https://localhost:8080/",
          "height": 430
        },
        "outputId": "ed02ceb6-592c-4339-c48d-387e89b14a47"
      },
      "outputs": [
        {
          "output_type": "display_data",
          "data": {
            "text/plain": [
              "<Figure size 640x480 with 1 Axes>"
            ],
            "image/png": "[encoded data removed]"
          },
          "metadata": {}
        }
      ],
      "source": [
        "from scipy.sparse.linalg._eigen import test\n",
        "look_back=100\n",
        "trainPredictPlot=numpy.empty_like(df1)\n",
        "trainPredictPlot[:,:]=np.nan\n",
        "trainPredictPlot[look_back:len(train_predict)+look_back,:] = train_predict\n",
        "\n",
        "testPredictPlot=numpy.empty_like(df1)\n",
        "testPredictPlot[:,:]=np.nan\n",
        "testPredictPlot[len(train_predict)+(look_back*2)+1:len(df1)-1,:] = test_predict\n",
        "\n",
        "plt.plot(scaler.inverse_transform(df1))\n",
        "plt.plot(trainPredictPlot)\n",
        "plt.plot(testPredictPlot)\n",
        "plt.show()\n"
      ]
    },
    {
      "cell_type": "code",
      "execution_count": null,
      "metadata": {
        "id": "7ZihB1dLR0af",
        "colab": {
          "base_uri": "https://localhost:8080/"
        },
        "outputId": "c78ee023-118a-414d-d50c-8c0e51e79d7d"
      },
      "outputs": [
        {
          "output_type": "execute_result",
          "data": {
            "text/plain": [
              "441"
            ]
          },
          "metadata": {},
          "execution_count": 39
        }
      ],
      "source": [
        "len(test_data)"
      ]
    },
    {
      "cell_type": "code",
      "execution_count": null,
      "metadata": {
        "id": "_qEtWiJWR0c_",
        "colab": {
          "base_uri": "https://localhost:8080/"
        },
        "outputId": "cbaf3e69-39b2-429e-86e7-0b5fd97d72b7"
      },
      "outputs": [
        {
          "output_type": "execute_result",
          "data": {
            "text/plain": [
              "(1, 100)"
            ]
          },
          "metadata": {},
          "execution_count": 40
        }
      ],
      "source": [
        "x_input=test_data[341:].reshape(1,-1)\n",
        "x_input.shape"
      ]
    },
    {
      "cell_type": "code",
      "execution_count": null,
      "metadata": {
        "id": "qtbk9hg1R0fc"
      },
      "outputs": [],
      "source": [
        "temp_input=list(x_input)\n",
        "temp_input=temp_input[0].tolist()"
      ]
    },
    {
      "cell_type": "code",
      "execution_count": null,
      "metadata": {
        "id": "PoIgyuULR0iC",
        "colab": {
          "base_uri": "https://localhost:8080/"
        },
        "outputId": "4a80422a-5360-4c08-fbb9-a54fdee89a41"
      },
      "outputs": [
        {
          "output_type": "execute_result",
          "data": {
            "text/plain": [
              "[0.8583551465000423,\n",
              " 0.8866418981676942,\n",
              " 0.8743139407244789,\n",
              " 0.8843198513890065,\n",
              " 0.8783669678290975,\n",
              " 0.8986321033521913,\n",
              " 0.925821160179009,\n",
              " 0.9287764924427933,\n",
              " 0.9567677108840666,\n",
              " 0.9386979650426415,\n",
              " 0.933040614709111,\n",
              " 0.9495060373216249,\n",
              " 0.9642404796082076,\n",
              " 0.9551211686228154,\n",
              " 0.9598919192772104,\n",
              " 0.9663514312251966,\n",
              " 0.9624672802499368,\n",
              " 0.9229502659799038,\n",
              " 0.9598497002448705,\n",
              " 0.9879253567508233,\n",
              " 0.985941062230854,\n",
              " 0.9253145317909315,\n",
              " 0.9217259140420504,\n",
              " 0.964747107996285,\n",
              " 0.9757240564046274,\n",
              " 0.9915984125643842,\n",
              " 0.9697289538123788,\n",
              " 0.9761462467280253,\n",
              " 0.9679557544541082,\n",
              " 1.0000000000000002,\n",
              " 0.9901629654648318,\n",
              " 0.9905007177235499,\n",
              " 0.9653803934813816,\n",
              " 0.9848855864223593,\n",
              " 0.9708688676855528,\n",
              " 0.9402600692392133,\n",
              " 0.8774803681499621,\n",
              " 0.8348391454867856,\n",
              " 0.8541332432660644,\n",
              " 0.7733682344000676,\n",
              " 0.7726927298826314,\n",
              " 0.8801401671873683,\n",
              " 0.8400743054969182,\n",
              " 0.8967322468969012,\n",
              " 0.8552731571392387,\n",
              " 0.8388499535590646,\n",
              " 0.7423372456303303,\n",
              " 0.8232711306256861,\n",
              " 0.7814320695769654,\n",
              " 0.6665963016127672,\n",
              " 0.7921557037912694,\n",
              " 0.6411804441442204,\n",
              " 0.6861437135860848,\n",
              " 0.6600101325677616,\n",
              " 0.6520307354555435,\n",
              " 0.5864223591995272,\n",
              " 0.5658616904500551,\n",
              " 0.660896732246897,\n",
              " 0.6551549438486872,\n",
              " 0.7097019336316812,\n",
              " 0.664527569028118,\n",
              " 0.6943764248923416,\n",
              " 0.692181035210673,\n",
              " 0.6356919699400492,\n",
              " 0.6526640209406402,\n",
              " 0.637802921557038,\n",
              " 0.7267162036646122,\n",
              " 0.7138816178333194,\n",
              " 0.7419150553069325,\n",
              " 0.7500211095161702,\n",
              " 0.7722283205268936,\n",
              " 0.8304905851557884,\n",
              " 0.8194291986827664,\n",
              " 0.8289706999915563,\n",
              " 0.8125474964113824,\n",
              " 0.7877649244279323,\n",
              " 0.7516254327450818,\n",
              " 0.7842607447437306,\n",
              " 0.7797433082833742,\n",
              " 0.8132652199611587,\n",
              " 0.8141096006079542,\n",
              " 0.7947310647639958,\n",
              " 0.8333614793548934,\n",
              " 0.8589884319851391,\n",
              " 0.8390188296884238,\n",
              " 0.8562864139153934,\n",
              " 0.8748627881448958,\n",
              " 0.887824031073208,\n",
              " 0.9009541501308793,\n",
              " 0.9279321117959978,\n",
              " 0.9485349995778098,\n",
              " 0.9333361479354896,\n",
              " 0.9174617917757326,\n",
              " 0.925441188887951,\n",
              " 0.9177151059697712,\n",
              " 0.9483239044161109,\n",
              " 0.9406400405302711,\n",
              " 0.9663514312251966,\n",
              " 0.9563033015283293,\n",
              " 0.964915984125644]"
            ]
          },
          "metadata": {},
          "execution_count": 42
        }
      ],
      "source": [
        "temp_input"
      ]
    },
    {
      "cell_type": "code",
      "execution_count": null,
      "metadata": {
        "id": "i_Xl29dRR0lc"
      },
      "outputs": [],
      "source": [
        "from numpy import array\n",
        "\n",
        "lst_output = []\n",
        "n_steps=100\n",
        "i=0\n",
        "while(i<30):\n",
        "\n",
        "   if(len(temp_input)>100):\n",
        "\n",
        "    x_input=np.array(temp_input[1:])\n",
        "    print(\"{} day input {}\".format(i,x_input))\n",
        "    x_input=x_input.reshape(1,-1)\n",
        "    x_input=x_input.reshape(1,n_steps,1)\n",
        "    yhat=model.predict(x_input,verbose=0)\n",
        "    print(\"{} day output {}\".format(i,yhat))\n",
        "    temp_input.extend(yhat[0].tolist())\n",
        "    temp_input=temp_input[1:]\n",
        "    lst_output.extend(yhat.tolist())\n",
        "    i=i+1\n",
        "else:\n",
        "    x_input = x_input.reshape((1,n_steps,1))\n",
        "    yhat = model.predict(x_input,verbose=0)\n",
        "    print(yhat[0])\n",
        "    temp_input.extend(yhat[0].tolist())\n",
        "    print(len(temp_input))\n",
        "    lst_output.extend(yhat.tolist())\n",
        "    i=i+1\n",
        "\n",
        "print(lst_output)\n"
      ]
    },
    {
      "cell_type": "code",
      "source": [
        "day_new=np.arrange(1,101)\n",
        "day_pred=np.arrange(101,131)"
      ],
      "metadata": {
        "id": "HDtGB46Xowpe"
      },
      "execution_count": null,
      "outputs": []
    },
    {
      "cell_type": "code",
      "source": [
        "import matplotlib.pyplot as plt"
      ],
      "metadata": {
        "id": "SxTrYG9GowsO"
      },
      "execution_count": null,
      "outputs": []
    },
    {
      "cell_type": "code",
      "source": [
        "len(df1)\n"
      ],
      "metadata": {
        "id": "5DTThYU3owuw"
      },
      "execution_count": null,
      "outputs": []
    },
    {
      "cell_type": "code",
      "source": [
        "df3=df1.tolist()\n",
        "df3.extend(lst_output)"
      ],
      "metadata": {
        "id": "VJmMrZapowxF"
      },
      "execution_count": null,
      "outputs": []
    },
    {
      "cell_type": "code",
      "source": [
        "plt.plot(day_new,scaler.inverse_transform(df1[1158:]))\n",
        "plt.plot(day_pred,scaler.inverse_transform(lst_output))\n"
      ],
      "metadata": {
        "id": "Kafxgp72ow0s"
      },
      "execution_count": null,
      "outputs": []
    },
    {
      "cell_type": "code",
      "source": [
        "plt.plot(df3[1000:])"
      ],
      "metadata": {
        "id": "H50GuBY0v36C"
      },
      "execution_count": null,
      "outputs": []
    },
    {
      "cell_type": "code",
      "source": [
        "df4=df1.tolist()\n",
        "df4.extend(lst_output)\n",
        "plt.plot(df4[1000:])"
      ],
      "metadata": {
        "id": "dDOpgZixuyY4"
      },
      "execution_count": null,
      "outputs": []
    },
    {
      "cell_type": "code",
      "source": [
        "df4=df1.tolist()\n",
        "df4.extend(lst_output)\n",
        "plt.plot(df4[1200:])"
      ],
      "metadata": {
        "id": "vq4CTooVuybK"
      },
      "execution_count": null,
      "outputs": []
    },
    {
      "cell_type": "code",
      "source": [],
      "metadata": {
        "id": "qNi4BZ68uydj"
      },
      "execution_count": null,
      "outputs": []
    },
    {
      "cell_type": "code",
      "source": [],
      "metadata": {
        "id": "fkZNGXRFuygG"
      },
      "execution_count": null,
      "outputs": []
    },
    {
      "cell_type": "markdown",
      "source": [],
      "metadata": {
        "id": "-Nng36n_whi8"
      }
    },
    {
      "cell_type": "code",
      "source": [],
      "metadata": {
        "id": "uymaIG8cuyja"
      },
      "execution_count": null,
      "outputs": []
    }
  ],
  "metadata": {
    "colab": {
      "provenance": [],
      "authorship_tag": "ABX9TyPpgmZo5oLEb4DtnVQJQpon",
      "include_colab_link": true
    },
    "kernelspec": {
      "display_name": "Python 3",
      "name": "python3"
    },
    "language_info": {
      "name": "python"
    }
  },
  "nbformat": 4,
  "nbformat_minor": 0
}